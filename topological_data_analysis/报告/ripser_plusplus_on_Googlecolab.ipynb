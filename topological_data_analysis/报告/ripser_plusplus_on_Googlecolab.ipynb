{
  "cells": [
    {
      "attachments": {},
      "cell_type": "markdown",
      "metadata": {
        "id": "pqvRQWDDkINa"
      },
      "source": [
        "# **Demo for Ripser++**"
      ]
    },
    {
      "cell_type": "code",
      "execution_count": null,
      "metadata": {},
      "outputs": [],
      "source": [
        "%load_ext autoreload\n",
        "%autoreload 2\n",
        "import os\n",
        "from google.colab import drive\n",
        "drive.mount('/content/drive')\n",
        "\n",
        "# TODO: Fill in the Google Drive path where you uploaded the assignment\n",
        "# Example: If you create a 2020FA folder and put all the files under A2 folder, then '2020FA/A2'\n",
        "# GOOGLE_DRIVE_PATH_AFTER_MYDRIVE = '2020FA/A2'\n",
        "GOOGLE_DRIVE_PATH_AFTER_MYDRIVE = 'Colab Notebooks/TDA'\n",
        "GOOGLE_DRIVE_PATH = os.path.join('drive', 'My Drive', GOOGLE_DRIVE_PATH_AFTER_MYDRIVE)\n",
        "print(os.listdir(GOOGLE_DRIVE_PATH))"
      ]
    },
    {
      "cell_type": "code",
      "execution_count": 1,
      "metadata": {
        "colab": {
          "base_uri": "https://localhost:8080/"
        },
        "id": "nBy0beb9Z1Bi",
        "outputId": "d6b7c5f1-ee5e-4862-fee6-08c2a3e50bb1"
      },
      "outputs": [
        {
          "name": "stdout",
          "output_type": "stream",
          "text": [
            "Collecting ripserplusplus\n",
            "  Downloading ripserplusplus-1.1.2.tar.gz (5.8 MB)\n",
            "\u001b[2K     \u001b[90m━━━━━━━━━━━━━━━━━━━━━━━━━━━━━━━━━━━━━━━━\u001b[0m \u001b[32m5.8/5.8 MB\u001b[0m \u001b[31m1.8 MB/s\u001b[0m eta \u001b[36m0:00:00\u001b[0m\n",
            "\u001b[?25h  Preparing metadata (setup.py) ... \u001b[?25l\u001b[?25hdone\n",
            "Requirement already satisfied: cmake in /usr/local/lib/python3.10/dist-packages (from ripserplusplus) (3.27.7)\n",
            "Requirement already satisfied: numpy in /usr/local/lib/python3.10/dist-packages (from ripserplusplus) (1.23.5)\n",
            "Requirement already satisfied: scipy in /usr/local/lib/python3.10/dist-packages (from ripserplusplus) (1.11.3)\n",
            "Building wheels for collected packages: ripserplusplus\n",
            "  Building wheel for ripserplusplus (setup.py) ... \u001b[?25l\u001b[?25hdone\n",
            "  Created wheel for ripserplusplus: filename=ripserplusplus-1.1.2-cp310-cp310-linux_x86_64.whl size=508833 sha256=e7b6469b0d4828ed155b12426febb616246cecc2aee7ef3365fd974bc759f5e1\n",
            "  Stored in directory: /root/.cache/pip/wheels/23/44/1a/84a78a6462ea7266d1564d82ed5c4d66f893f5d3a74173292f\n",
            "Successfully built ripserplusplus\n",
            "Installing collected packages: ripserplusplus\n",
            "Successfully installed ripserplusplus-1.1.2\n"
          ]
        }
      ],
      "source": [
        "!pip install ripserplusplus\n",
        "!pip install ripser"
      ]
    },
    {
      "cell_type": "code",
      "execution_count": 1,
      "metadata": {
        "id": "9s9u7oJOgi3N"
      },
      "outputs": [
        {
          "ename": "ImportError",
          "evalue": "cannot import name 'betti_number' from 'dataset.get_betti_number' (d:\\自学计算机\\MY_Project\\WuYang\\topological_data_analysis\\dataset\\get_betti_number.py)",
          "output_type": "error",
          "traceback": [
            "\u001b[1;31m---------------------------------------------------------------------------\u001b[0m",
            "\u001b[1;31mImportError\u001b[0m                               Traceback (most recent call last)",
            "Cell \u001b[1;32mIn[1], line 11\u001b[0m\n\u001b[0;32m      9\u001b[0m \u001b[39mfrom\u001b[39;00m \u001b[39mdataset\u001b[39;00m\u001b[39m.\u001b[39;00m\u001b[39mget_dataloader\u001b[39;00m \u001b[39mimport\u001b[39;00m get_dataloader,loader2vec, vec_dis\n\u001b[0;32m     10\u001b[0m \u001b[39mfrom\u001b[39;00m \u001b[39mdataset\u001b[39;00m\u001b[39m.\u001b[39;00m\u001b[39mdata2betti\u001b[39;00m \u001b[39mimport\u001b[39;00m distance_betti, distance_betti_ripser, plt_betti_number,plot_betti_number_bars\n\u001b[1;32m---> 11\u001b[0m \u001b[39mfrom\u001b[39;00m \u001b[39mdataset\u001b[39;00m\u001b[39m.\u001b[39;00m\u001b[39mget_betti_number\u001b[39;00m \u001b[39mimport\u001b[39;00m betti_number\n\u001b[0;32m     12\u001b[0m \u001b[39mfrom\u001b[39;00m \u001b[39mripser\u001b[39;00m \u001b[39mimport\u001b[39;00m Rips, ripser\n\u001b[0;32m     14\u001b[0m \u001b[39m# 释放不需要的内存\u001b[39;00m\n",
            "\u001b[1;31mImportError\u001b[0m: cannot import name 'betti_number' from 'dataset.get_betti_number' (d:\\自学计算机\\MY_Project\\WuYang\\topological_data_analysis\\dataset\\get_betti_number.py)"
          ]
        }
      ],
      "source": [
        "# import ripserplusplus as rpp_py\n",
        "from tqdm import tqdm\n",
        "import sys\n",
        "import time\n",
        "import torch\n",
        "import torchvision\n",
        "import numpy as np\n",
        "import torchvision.transforms as transforms\n",
        "from dataset.get_dataloader import get_dataloader,loader2vec, vec_dis\n",
        "from dataset.data2betti import distance_betti, distance_betti_ripser, plt_betti_number,plot_betti_number_bars\n",
        "from dataset.get_betti_number import betti_number\n",
        "from ripser import Rips, ripser\n",
        "\n",
        "# 释放不需要的内存\n",
        "torch.cuda.empty_cache()"
      ]
    },
    {
      "attachments": {},
      "cell_type": "markdown",
      "metadata": {
        "id": "mbpiLxpUkbTZ"
      },
      "source": [
        "benchmark: running ripser for 1000 iterations on random point clouds"
      ]
    },
    {
      "cell_type": "code",
      "execution_count": null,
      "metadata": {
        "id": "NcKLAMjUhlE0"
      },
      "outputs": [],
      "source": [
        "start = time.time()\n",
        "num_iters= 1000\n",
        "for i in tqdm(range(num_iters)):\n",
        "  d= rpp_py.run(\"--format point-cloud --dim 2\",np.random.random((100,4)))\n",
        "  if (i%100==0):\n",
        "    print(d)\n",
        "    sys.stdout.write('\\033[2K\\033[1G')\n",
        "end = time.time()\n",
        "print(\"ripser++ total time: \", end-start)\n"
      ]
    },
    {
      "cell_type": "code",
      "execution_count": null,
      "metadata": {},
      "outputs": [],
      "source": [
        "chose = \"cifar10_debug\"\n",
        "train_loader, test_loader = get_dataloader(chose=chose,debug_size=100)\n",
        "flattened_images = loader2vec(train_loader=train_loader)\n",
        "\n",
        "# flattened_images现在包含整个训练集中的图像向量，形状为(N, 3 * 224 * 224)，其中N是训练集的大小\n",
        "save_floor = \"./distance/100/\"\n",
        "l2_distances = vec_dis(data_matrix=flattened_images, distance=\"l2\",save_flag=True,root=save_floor)\n",
        "l1_distances = vec_dis(data_matrix=flattened_images, distance=\"l1\",save_flag=True,root=save_floor)\n",
        "# print(l2_distances)\n",
        "\n",
        "\n",
        "# 读取 L2 范数距离矩阵\n",
        "l2_floor = f\"{save_floor}l2_distance.npy\"\n",
        "loaded_l2_distances = np.load(l2_floor)\n",
        "\n",
        "# 读取 L1 范数距离矩阵\n",
        "l1_floor = f\"{save_floor}l1_distance.npy\"\n",
        "loaded_l1_distances = np.load(l1_floor)\n",
        "\n",
        "d1= ripser(l1_distances, maxdim=1, distance_matrix=True)\n",
        "plt_betti_number(d1[\"dgms\"],plt_title=\"L1\",root=save_floor)\n",
        "# print(len(d[\"dgms\"][0]))\n",
        "\n",
        "plot_betti_number_bars(d1[\"dgms\"],plt_title=\"L1\",root=save_floor)\n",
        "\n",
        "d2= ripser(l2_distances, maxdim=1, distance_matrix=True)\n",
        "plt_betti_number(d2[\"dgms\"],plt_title=\"L2\", root=save_floor)\n",
        "# print(len(d[\"dgms\"][0]))\n",
        "\n",
        "plot_betti_number_bars(d2[\"dgms\"],plt_title=\"L2\",root=save_floor)"
      ]
    },
    {
      "cell_type": "code",
      "execution_count": null,
      "metadata": {},
      "outputs": [],
      "source": [
        "# d= rpp_py.run(\"--format distance --dim 2\",l2_distances)\n",
        "# print(d)"
      ]
    }
  ],
  "metadata": {
    "accelerator": "GPU",
    "colab": {
      "name": "ripser-plusplus-on-Googlecolab.ipynb",
      "provenance": [],
      "toc_visible": true
    },
    "kernelspec": {
      "display_name": "Python 3",
      "name": "python3"
    },
    "language_info": {
      "codemirror_mode": {
        "name": "ipython",
        "version": 3
      },
      "file_extension": ".py",
      "mimetype": "text/x-python",
      "name": "python",
      "nbconvert_exporter": "python",
      "pygments_lexer": "ipython3",
      "version": "3.11.4"
    }
  },
  "nbformat": 4,
  "nbformat_minor": 0
}
