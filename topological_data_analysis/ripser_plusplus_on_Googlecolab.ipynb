{
  "nbformat": 4,
  "nbformat_minor": 0,
  "metadata": {
    "colab": {
      "name": "ripser-plusplus-on-Googlecolab.ipynb",
      "provenance": [],
      "toc_visible": true
    },
    "kernelspec": {
      "name": "python3",
      "display_name": "Python 3"
    },
    "accelerator": "GPU"
  },
  "cells": [
    {
      "cell_type": "markdown",
      "metadata": {
        "id": "pqvRQWDDkINa"
      },
      "source": [
        "# **Demo for Ripser++**"
      ]
    },
    {
      "cell_type": "code",
      "metadata": {
        "colab": {
          "base_uri": "https://localhost:8080/"
        },
        "id": "nBy0beb9Z1Bi",
        "outputId": "d6b7c5f1-ee5e-4862-fee6-08c2a3e50bb1"
      },
      "source": [
        "!pip install ripserplusplus\n"
      ],
      "execution_count": 1,
      "outputs": [
        {
          "output_type": "stream",
          "name": "stdout",
          "text": [
            "Collecting ripserplusplus\n",
            "  Downloading ripserplusplus-1.1.2.tar.gz (5.8 MB)\n",
            "\u001b[2K     \u001b[90m━━━━━━━━━━━━━━━━━━━━━━━━━━━━━━━━━━━━━━━━\u001b[0m \u001b[32m5.8/5.8 MB\u001b[0m \u001b[31m1.8 MB/s\u001b[0m eta \u001b[36m0:00:00\u001b[0m\n",
            "\u001b[?25h  Preparing metadata (setup.py) ... \u001b[?25l\u001b[?25hdone\n",
            "Requirement already satisfied: cmake in /usr/local/lib/python3.10/dist-packages (from ripserplusplus) (3.27.7)\n",
            "Requirement already satisfied: numpy in /usr/local/lib/python3.10/dist-packages (from ripserplusplus) (1.23.5)\n",
            "Requirement already satisfied: scipy in /usr/local/lib/python3.10/dist-packages (from ripserplusplus) (1.11.3)\n",
            "Building wheels for collected packages: ripserplusplus\n",
            "  Building wheel for ripserplusplus (setup.py) ... \u001b[?25l\u001b[?25hdone\n",
            "  Created wheel for ripserplusplus: filename=ripserplusplus-1.1.2-cp310-cp310-linux_x86_64.whl size=508833 sha256=e7b6469b0d4828ed155b12426febb616246cecc2aee7ef3365fd974bc759f5e1\n",
            "  Stored in directory: /root/.cache/pip/wheels/23/44/1a/84a78a6462ea7266d1564d82ed5c4d66f893f5d3a74173292f\n",
            "Successfully built ripserplusplus\n",
            "Installing collected packages: ripserplusplus\n",
            "Successfully installed ripserplusplus-1.1.2\n"
          ]
        }
      ]
    },
    {
      "cell_type": "code",
      "metadata": {
        "colab": {
          "base_uri": "https://localhost:8080/"
        },
        "id": "yX9MRL3kgfke",
        "outputId": "b547c2cf-5442-4ed3-a019-8fe1aa5649fc"
      },
      "source": [
        "!pip install ripser"
      ],
      "execution_count": null,
      "outputs": [
        {
          "output_type": "stream",
          "name": "stdout",
          "text": [
            "Collecting ripser\n",
            "  Downloading ripser-0.6.4.tar.gz (74 kB)\n",
            "\u001b[2K     \u001b[90m━━━━━━━━━━━━━━━━━━━━━━━━━━━━━━━━━━━━━━━━\u001b[0m \u001b[32m74.6/74.6 kB\u001b[0m \u001b[31m2.5 MB/s\u001b[0m eta \u001b[36m0:00:00\u001b[0m\n",
            "\u001b[?25h"
          ]
        }
      ]
    },
    {
      "cell_type": "code",
      "metadata": {
        "id": "9s9u7oJOgi3N"
      },
      "source": [
        "import ripserplusplus as rpp_py\n",
        "import numpy as np\n",
        "from tqdm import tqdm\n",
        "import sys\n",
        "from ripser import ripser\n",
        "import time"
      ],
      "execution_count": null,
      "outputs": []
    },
    {
      "cell_type": "markdown",
      "metadata": {
        "id": "mbpiLxpUkbTZ"
      },
      "source": [
        "benchmark: running ripser for 1000 iterations on random point clouds"
      ]
    },
    {
      "cell_type": "code",
      "metadata": {
        "id": "PaCSXzf5hx4t"
      },
      "source": [
        "start = time.time()\n",
        "num_iters= 1000\n",
        "for i in tqdm(range(num_iters)):\n",
        "  d= ripser(np.random.random((100,4)), maxdim=2)\n",
        "  if (i%100==0):\n",
        "    print(d)\n",
        "    sys.stdout.write('\\033[2K\\033[1G')\n",
        "end = time.time()\n",
        "print(\"ripser.py total time\", end-start)"
      ],
      "execution_count": null,
      "outputs": []
    },
    {
      "cell_type": "code",
      "metadata": {
        "id": "NcKLAMjUhlE0"
      },
      "source": [
        "start = time.time()\n",
        "num_iters= 1000\n",
        "for i in tqdm(range(num_iters)):\n",
        "  d= rpp_py.run(\"--format point-cloud --dim 2\",np.random.random((100,4)))\n",
        "  if (i%100==0):\n",
        "    print(d)\n",
        "    sys.stdout.write('\\033[2K\\033[1G')\n",
        "end = time.time()\n",
        "print(\"ripser++ total time: \", end-start)\n"
      ],
      "execution_count": null,
      "outputs": []
    }
  ]
}