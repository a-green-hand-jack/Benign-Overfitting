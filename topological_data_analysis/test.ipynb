{
 "cells": [
  {
   "cell_type": "code",
   "execution_count": 2,
   "metadata": {},
   "outputs": [
    {
     "name": "stdout",
     "output_type": "stream",
     "text": [
      "[[28.0, 29.0, 30.0], [31.0, 32.0, 33.0]]\n"
     ]
    }
   ],
   "source": [
    "# 假设 experiments_results 是你的三层嵌套列表，这里用一个示例列表表示\n",
    "experiments_results = [\n",
    "    [[1, 2, 3], [4, 5, 6]],\n",
    "    [[7, 8, 9], [10, 11, 12]],\n",
    "    [[13, 14, 15], [16, 17, 18]],\n",
    "    [[19, 20, 21], [22, 23, 24]],\n",
    "    [[25, 26, 27], [28, 29, 30]],\n",
    "    [[31, 32, 33], [34, 35, 36]],\n",
    "    [[37, 38, 39], [40, 41, 42]],\n",
    "    [[43, 44, 45], [46, 47, 48]],\n",
    "    [[49, 50, 51], [52, 53, 54]],\n",
    "    [[55, 56, 57], [58, 59, 60]]\n",
    "]\n",
    "\n",
    "# 使用 zip(*experiments_results) 获取每个实验对应位置的结果，然后对每个位置的结果求平均值\n",
    "averaged_results = [\n",
    "    [sum(values) / len(values) for values in zip(*experiment)]\n",
    "    for experiment in zip(*experiments_results)\n",
    "]\n",
    "\n",
    "print(averaged_results)"
   ]
  },
  {
   "cell_type": "code",
   "execution_count": 1,
   "metadata": {},
   "outputs": [
    {
     "data": {
      "text/plain": [
       "2"
      ]
     },
     "execution_count": 1,
     "metadata": {},
     "output_type": "execute_result"
    }
   ],
   "source": [
    "list_2 = [[1,2],[4,5]]\n",
    "len(list_2)"
   ]
  }
 ],
 "metadata": {
  "kernelspec": {
   "display_name": "PyTorchGpu",
   "language": "python",
   "name": "python3"
  },
  "language_info": {
   "codemirror_mode": {
    "name": "ipython",
    "version": 3
   },
   "file_extension": ".py",
   "mimetype": "text/x-python",
   "name": "python",
   "nbconvert_exporter": "python",
   "pygments_lexer": "ipython3",
   "version": "3.11.4"
  },
  "orig_nbformat": 4
 },
 "nbformat": 4,
 "nbformat_minor": 2
}
