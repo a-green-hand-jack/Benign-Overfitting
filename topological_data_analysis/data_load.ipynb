{
 "cells": [
  {
   "cell_type": "code",
   "execution_count": 10,
   "metadata": {},
   "outputs": [],
   "source": [
    "%load_ext autoreload\n",
    "%autoreload 2"
   ]
  },
  {
   "cell_type": "code",
   "execution_count": 11,
   "metadata": {},
   "outputs": [
    {
     "name": "stdout",
     "output_type": "stream",
     "text": [
      "Files already downloaded and verified\n",
      "Files already downloaded and verified\n"
     ]
    }
   ],
   "source": [
    "import torch\n",
    "import torchvision\n",
    "import torchvision.transforms as transforms\n",
    "from dataset.get_dataloader import get_dataloader,loader2vec, vec_dis\n",
    "\n",
    "\n",
    "train_loader, test_loader = get_dataloader(chose=\"cifar10\")\n"
   ]
  },
  {
   "cell_type": "code",
   "execution_count": 2,
   "metadata": {},
   "outputs": [],
   "source": [
    "flattened_images = loader2vec(train_loader=train_loader)\n",
    "\n",
    "# flattened_images现在包含整个训练集中的图像向量，形状为(N, 3 * 224 * 224)，其中N是训练集的大小\n"
   ]
  },
  {
   "cell_type": "code",
   "execution_count": 3,
   "metadata": {},
   "outputs": [
    {
     "name": "stdout",
     "output_type": "stream",
     "text": [
      "flattened_images shape: torch.Size([50000, 3072])\n",
      "First 5 flattened image vectors:\n",
      "tensor([ 1.9907,  2.3590,  2.4172,  ..., -1.8313, -1.9679, -2.0655])\n",
      "tensor([-2.2740, -2.2546, -2.2740,  ..., -1.4606, -1.2851, -1.5192])\n",
      "tensor([ 0.4011,  0.5950,  0.7113,  ..., -1.4997, -1.4997, -1.5582])\n",
      "tensor([ 0.0716, -0.2967, -0.8395,  ...,  0.1197,  1.1342,  1.3293])\n",
      "tensor([-2.1383, -2.0414, -1.9444,  ...,  0.4514,  0.5684,  0.6660])\n"
     ]
    }
   ],
   "source": [
    "print(\"flattened_images shape:\", flattened_images.shape)\n",
    "\n",
    "print(\"First 5 flattened image vectors:\")\n",
    "for i in range(5):\n",
    "    print(flattened_images[i])\n"
   ]
  },
  {
   "cell_type": "code",
   "execution_count": 5,
   "metadata": {},
   "outputs": [],
   "source": [
    "\n",
    "l2_distances = vec_dis(data_matrix=flattened_images, distance=\"l2\")\n",
    "l1_distances = vec_dis(data_matrix=flattened_images, distance=\"l1\")\n"
   ]
  },
  {
   "cell_type": "code",
   "execution_count": null,
   "metadata": {},
   "outputs": [],
   "source": [
    "# import numpy as np\n",
    "\n",
    "# # 读取 L2 范数距离矩阵\n",
    "# loaded_l2_distances = np.load('l2_distances.npy')\n",
    "\n",
    "# # 读取 L1 范数距离矩阵\n",
    "# loaded_l1_distances = np.load('l1_distances.npy')\n"
   ]
  },
  {
   "cell_type": "code",
   "execution_count": null,
   "metadata": {},
   "outputs": [],
   "source": [
    "from dataset.data2betti import distance_betti\n",
    "\n",
    "l2_betti_number = distance_betti(distances=l2_distances)\n",
    "l1_betti_number = distance_betti(distances=l1_distances)"
   ]
  }
 ],
 "metadata": {
  "kernelspec": {
   "display_name": "PyTorchGpu",
   "language": "python",
   "name": "python3"
  },
  "language_info": {
   "codemirror_mode": {
    "name": "ipython",
    "version": 3
   },
   "file_extension": ".py",
   "mimetype": "text/x-python",
   "name": "python",
   "nbconvert_exporter": "python",
   "pygments_lexer": "ipython3",
   "version": "3.11.4"
  },
  "orig_nbformat": 4
 },
 "nbformat": 4,
 "nbformat_minor": 2
}
