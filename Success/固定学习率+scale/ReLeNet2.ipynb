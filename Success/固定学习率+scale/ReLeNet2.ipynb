{
 "cells": [
  {
   "cell_type": "code",
   "execution_count": null,
   "metadata": {},
   "outputs": [],
   "source": [
    "# 加载各种库\n",
    "import torch\n",
    "import os \n",
    "# os.environ['CUDA_VISIBLE_DEVICES'] = '1'\n",
    "import pickle\n",
    "import torch.nn as nn\n",
    "import torch.optim as optim\n",
    "from torch.utils.tensorboard import SummaryWriter\n",
    "import numpy as np\n",
    "import random\n",
    "from torch.optim.lr_scheduler import CosineAnnealingLR  # 实现cos函数式的变化\n",
    "\n",
    "# 加载支持函数和类\n",
    "from support_code.load_dataset import get_data_loader\n",
    "from support_code.LeNet import LeNet\n",
    "from support_code.get_scale import get_scale\n",
    "\n",
    "# 设置设备和种子\n",
    "device_cuda = torch.device(\"cuda\" if torch.cuda.is_available() else \"cpu\")\n",
    "# 设置随机种子\n",
    "seed = 10  # 你可以选择任何整数作为种子值\n",
    "# 设置PyTorch随机种子\n",
    "torch.manual_seed(seed)\n",
    "# 设置CUDA随机种子（如果使用GPU）\n",
    "if torch.cuda.is_available():\n",
    "    torch.cuda.manual_seed(seed)\n",
    "    torch.cuda.manual_seed_all(seed)\n",
    "# 设置Numpy随机种子\n",
    "np.random.seed(seed)\n",
    "# 设置Python随机种子\n",
    "random.seed(seed)\n",
    "\n"
   ]
  },
  {
   "cell_type": "code",
   "execution_count": null,
   "metadata": {},
   "outputs": [],
   "source": [
    "# 定义初始的scale范围\n",
    "scale_min = 0.1\n",
    "scale_max = 0.1\n",
    "scale_list = [round(x * 0.1, 1) for x in range(int(scale_min * 10), int(scale_max * 10) + 1)]\n",
    "\n",
    "# 添加tensorboard\n",
    "folder_path = \"LeNet-0921-1029\"\n",
    "writer_new = SummaryWriter(folder_path)\n",
    "\n",
    "for scale in scale_list:\n",
    "  train_loader, _, test_loader = get_data_loader(scale, valid_scale=0.1)\n",
    "  train_tag_loss = \"train_loss_{}\".format(scale)\n",
    "  train_tag_acc = \"train_accuracy_{}\".format(scale)\n",
    "  test_tag_loss = \"val_loss_{}\".format(scale)\n",
    "  test_tag_acc = \"val_accuracy_{}\".format(scale)\n",
    "  print(\"--------------------开始scale={}的情况---------------------\".format(scale), \"\\n\")\n",
    "  get_scale(scale=scale, \n",
    "            writer=writer_new, \n",
    "            train_loader=train_loader, \n",
    "            test_loader=test_loader,\n",
    "            save_dir = folder_path, \n",
    "            test_acc_name= test_tag_acc,\n",
    "            test_loss_name=test_tag_loss,\n",
    "            train_acc_name=train_tag_acc,\n",
    "            train_loss_name=train_tag_loss,\n",
    "            num_epochs=1)\n",
    "\n",
    "\n",
    "writer_new.close()"
   ]
  },
  {
   "cell_type": "code",
   "execution_count": 1,
   "metadata": {},
   "outputs": [
    {
     "name": "stdout",
     "output_type": "stream",
     "text": [
      "[0.3, 0.4, 0.5, 0.6, 0.7, 0.8, 0.9, 1.0]\n"
     ]
    }
   ],
   "source": [
    "scale_min = 0.3\n",
    "scale_max = 1.0\n",
    "scale_list = [round(x * 0.1, 1) for x in range(int(scale_min * 10), int(scale_max * 10) + 1)]\n",
    "print(scale_list)"
   ]
  },
  {
   "cell_type": "code",
   "execution_count": 3,
   "metadata": {},
   "outputs": [
    {
     "name": "stdout",
     "output_type": "stream",
     "text": [
      "3\n"
     ]
    }
   ],
   "source": [
    "scale=0.1\n",
    "scale = int(32*scale)\n",
    "print(scale)"
   ]
  }
 ],
 "metadata": {
  "kernelspec": {
   "display_name": "PyTorchGpu",
   "language": "python",
   "name": "python3"
  },
  "language_info": {
   "codemirror_mode": {
    "name": "ipython",
    "version": 3
   },
   "file_extension": ".py",
   "mimetype": "text/x-python",
   "name": "python",
   "nbconvert_exporter": "python",
   "pygments_lexer": "ipython3",
   "version": "3.11.4"
  },
  "orig_nbformat": 4
 },
 "nbformat": 4,
 "nbformat_minor": 2
}
