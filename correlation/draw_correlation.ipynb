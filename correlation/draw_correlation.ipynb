{
 "cells": [
  {
   "cell_type": "code",
   "execution_count": 160,
   "metadata": {},
   "outputs": [
    {
     "name": "stdout",
     "output_type": "stream",
     "text": [
      "The autoreload extension is already loaded. To reload it, use:\n",
      "  %reload_ext autoreload\n"
     ]
    }
   ],
   "source": [
    "%load_ext autoreload\n",
    "%autoreload 2"
   ]
  },
  {
   "attachments": {},
   "cell_type": "markdown",
   "metadata": {},
   "source": [
    "# 绘制TDA和BOF对Acc的相关性"
   ]
  },
  {
   "attachments": {},
   "cell_type": "markdown",
   "metadata": {},
   "source": [
    "## 首先需要定义一些函数"
   ]
  },
  {
   "attachments": {},
   "cell_type": "markdown",
   "metadata": {},
   "source": [
    "### 计算相关性的函数"
   ]
  },
  {
   "cell_type": "code",
   "execution_count": 161,
   "metadata": {},
   "outputs": [
    {
     "name": "stdout",
     "output_type": "stream",
     "text": [
      "Spearman Correlation Coefficient: 0.7\n",
      "P-value: 0.1881204043741873\n"
     ]
    }
   ],
   "source": [
    "# 这里需要定义一个计算相关性的函数\n",
    "# 计算的是*spearman correlation*\n",
    "\n",
    "from scipy.stats import spearmanr\n",
    "\n",
    "def calculate_spearman_correlation(vector1, vector2):\n",
    "    \"\"\"\n",
    "    Calculate the Spearman correlation between two vectors.\n",
    "\n",
    "    Parameters:\n",
    "    - vector1 (array-like): The first vector.\n",
    "    - vector2 (array-like): The second vector.\n",
    "\n",
    "    Returns:\n",
    "    - float: The Spearman correlation coefficient.\n",
    "    - float: The two-tailed p-value for a hypothesis test whose null hypothesis is that the two samples are uncorrelated.\n",
    "    \"\"\"\n",
    "    correlation_coefficient, p_value = spearmanr(vector1, vector2)\n",
    "    return correlation_coefficient, p_value\n",
    "\n",
    "# Example Usage:\n",
    "vector1 = [1, 2, 3, 4, 5]\n",
    "vector2 = [2, 3, 1, 4, 5]\n",
    "\n",
    "correlation, p_value = calculate_spearman_correlation(vector1, vector2)\n",
    "\n",
    "print(f\"Spearman Correlation Coefficient: {correlation}\")\n",
    "print(f\"P-value: {p_value}\")\n"
   ]
  },
  {
   "attachments": {},
   "cell_type": "markdown",
   "metadata": {},
   "source": [
    "### 计算数据中的相关性"
   ]
  },
  {
   "cell_type": "code",
   "execution_count": 162,
   "metadata": {},
   "outputs": [
    {
     "name": "stdout",
     "output_type": "stream",
     "text": [
      "Spearman Correlation Coefficient: 0.008535461097340626\n",
      "P-value: 0.9094601540489842\n"
     ]
    }
   ],
   "source": [
    "import pandas as pd\n",
    "def calculate_correlation_between_excel_sheets(file_path1, sheet_name1, column_name1, file_path2, sheet_name2, column_name2, x:int =100):\n",
    "    \"\"\"\n",
    "    Calculate the Spearman correlation between the first x% of data in two columns in different Excel files.\n",
    "\n",
    "    Parameters:\n",
    "    - file_path1 (str): Path to the first Excel file.\n",
    "    - sheet_name1 (str): Name of the sheet in the first Excel file.\n",
    "    - column_name1 (str): Name of the column in the first sheet for which correlation is calculated.\n",
    "\n",
    "    - file_path2 (str): Path to the second Excel file.\n",
    "    - sheet_name2 (str): Name of the sheet in the second Excel file.\n",
    "    - column_name2 (str): Name of the column in the second sheet for which correlation is calculated.\n",
    "\n",
    "    - x (float): The percentage of data to consider for correlation calculation.\n",
    "\n",
    "    Returns:\n",
    "    - float: The Spearman correlation coefficient.\n",
    "    - float: The two-tailed p-value for a hypothesis test whose null hypothesis is that the two samples are uncorrelated.\n",
    "    \"\"\"\n",
    "    # Read data from Excel files\n",
    "    df1 = pd.read_excel(file_path1, sheet_name=sheet_name1)\n",
    "    df2 = pd.read_excel(file_path2, sheet_name=sheet_name2)\n",
    "    # print(df1)\n",
    "    # print(df2)\n",
    "\n",
    "    # Calculate the number of rows to select\n",
    "    num_rows = int(len(df1) * x / 100)\n",
    "\n",
    "    # Select the first x% of data\n",
    "    vector1 = df1[column_name1].head(num_rows)\n",
    "    vector2 = df2[column_name2].head(num_rows)\n",
    "\n",
    "    # Calculate Spearman correlation\n",
    "    correlation_coefficient, p_value = calculate_spearman_correlation(vector1, vector2)\n",
    "\n",
    "    return correlation_coefficient, p_value\n",
    "\n",
    "\n",
    "# Example Usage:\n",
    "file_path1 = './input_data/best_val_acc.xlsx'\n",
    "sheet_name1 = 'Angle'\n",
    "column_name1 = 'ResNet152'\n",
    "\n",
    "file_path2 = './input_data/TDA_data.xlsx'\n",
    "sheet_name2 = sheet_name1\n",
    "column_name2 = ['Data']\n",
    "\n",
    "correlation, p_value = calculate_correlation_between_excel_sheets(file_path1, sheet_name1, column_name1, file_path2, sheet_name2, column_name2, x=100)\n",
    "\n",
    "print(f\"Spearman Correlation Coefficient: {correlation}\")\n",
    "print(f\"P-value: {p_value}\")"
   ]
  },
  {
   "cell_type": "code",
   "execution_count": 163,
   "metadata": {},
   "outputs": [],
   "source": [
    "import pandas as pd\n",
    "import re\n",
    "\n",
    "# 自定义排序函数\n",
    "def sort_by_number(column_name):\n",
    "    # 从列名中提取数字\n",
    "    numbers = re.findall(r'\\d+', column_name)\n",
    "    if numbers:\n",
    "        return int(numbers[0])\n",
    "    else:\n",
    "        return 0\n",
    "\n",
    "# # 将列名按照数字大小排序\n",
    "# df_pivot_sorted = df_pivot.sort_values(by=lambda x: sort_by_number(x), axis=1)\n",
    "\n",
    "# # 保存到Excel\n",
    "# df_pivot_sorted.to_excel(excel_path)\n",
    "\n",
    "\n",
    "def calculate_correlations_for_all_columns(file_path1, file_path2, sheet_names, column_names1, column_names2, if_data=False, excel_path = 'output_file.xlsx', percentage:int =50):\n",
    "    \"\"\"\n",
    "    Calculate Spearman correlations for all combinations of sheets and columns between two Excel files.\n",
    "\n",
    "    Parameters:\n",
    "    - file_path1 (str): Path to the first Excel file.\n",
    "    - file_path2 (str): Path to the second Excel file.\n",
    "    - sheet_names (list): List of sheet names present in both Excel files.\n",
    "    - column_names (list): List of column names present in each sheet.\n",
    "\n",
    "    Returns:\n",
    "    - pd.DataFrame: DataFrame containing correlation coefficients for all combinations.\n",
    "    \"\"\"\n",
    "    correlation_data = []\n",
    "\n",
    "    for sheet_name in sheet_names:\n",
    "        for column_name1, column_name2 in zip(column_names1, column_names2):\n",
    "            \n",
    "            correlation_coefficient, p_value = calculate_correlation_between_excel_sheets(\n",
    "                    file_path1, sheet_name, column_name1,\n",
    "                    file_path2, sheet_name, column_name2,\n",
    "                    x = percentage\n",
    "                )\n",
    "            \n",
    "            correlation_data.append({\n",
    "                'Sheet': sheet_name,\n",
    "                'Column': column_name1,\n",
    "                'Correlation': correlation_coefficient,\n",
    "                'P-value': p_value\n",
    "            })\n",
    "\n",
    "    correlation_df = pd.DataFrame(correlation_data)\n",
    "    \n",
    "    # Sample DataFrame\n",
    "    data = correlation_df\n",
    "\n",
    "    df = pd.DataFrame(data)\n",
    "\n",
    "    # Drop the 'P-value' column\n",
    "    df = df.drop('P-value', axis=1)\n",
    "\n",
    "    # Pivot the DataFrame\n",
    "    df_pivot = df.pivot(index='Sheet', columns='Column', values='Correlation')\n",
    "    # Set 'Sheet' as the index\n",
    "    # df_pivot.set_index('Column', inplace=True)\n",
    "\n",
    "    # Save to Excel\n",
    "    \n",
    "    df_pivot.to_excel(excel_path)\n",
    "\n",
    "    print(f'DataFrame saved to {excel_path}')\n",
    "    return df_pivot\n",
    "\n"
   ]
  },
  {
   "attachments": {},
   "cell_type": "markdown",
   "metadata": {},
   "source": [
    "### 绘制柱形图"
   ]
  },
  {
   "cell_type": "code",
   "execution_count": 164,
   "metadata": {},
   "outputs": [],
   "source": [
    "import pandas as pd\n",
    "import matplotlib.pyplot as plt\n",
    "import numpy as np\n",
    "import matplotlib.backends.backend_pdf as pdf_backend\n",
    "\n",
    "def plot_grouped_bar_chart(file_path1, file_path2, row_index, aug_names = ['Angle', 'Scale'],columns_order=['MLP', 'LeNet', 'ResNet18', 'ResNet34', 'ResNet50', 'ResNet101', 'ResNet152'],label1='Data TDA v.s. Acc',label2='Model output v.s. Acc', title_key='TDA'):\n",
    "    \"\"\"\n",
    "    Read specified rows from two Excel files and plot a grouped bar chart.\n",
    "\n",
    "    Parameters:\n",
    "    - file_path1 (str): Path to the first Excel file.\n",
    "    - file_path2 (str): Path to the second Excel file.\n",
    "    - row_index (int): Index of the row to plot.\n",
    "\n",
    "    Returns:\n",
    "    - None\n",
    "    \"\"\"\n",
    "    \n",
    "    # Read data from Excel files\n",
    "    df1 = pd.read_excel(file_path1, index_col=0)\n",
    "    df2 = pd.read_excel(file_path2, index_col=0)\n",
    "    # 调整列的顺序\n",
    "    df1 = df1[columns_order]\n",
    "    df2 = df2[columns_order]\n",
    "\n",
    "    # Select the specified row\n",
    "    row_data1 = df1.iloc[row_index]\n",
    "    row_data2 = df2.iloc[row_index]\n",
    "    # print(row_data1, '\\n', row_data2)\n",
    "\n",
    "    # Organize data for plotting\n",
    "    columns = df1.columns\n",
    "    positions = np.arange(len(columns))\n",
    "    bar_width = 0.1\n",
    "\n",
    "    # Plotting\n",
    "    fig, ax = plt.subplots()\n",
    "    bars1 = ax.bar(positions - bar_width/2, row_data1, bar_width, label=label1)\n",
    "    bars2 = ax.bar(positions + bar_width/2, row_data2, bar_width, label=label2)\n",
    "\n",
    "    # Set labels and title\n",
    "    ax.set_xlabel('Models')\n",
    "    ax.set_ylabel('Spearman orrelation')\n",
    "    ax.set_title(f'Spearman orrelation between Acc and {title_key} in {aug_names[row_index]}')\n",
    "    ax.set_xticks(positions)\n",
    "    ax.set_xticklabels(columns)\n",
    "    ax.legend()\n",
    "\n",
    "    # Save the plot as PDF\n",
    "    pdf = pdf_backend.PdfPages(f\"Spearman orrelation between Acc and {title_key} in {aug_names[row_index]}.pdf\")\n",
    "    pdf.savefig(fig)\n",
    "    pdf.close()\n",
    "\n",
    "    # Show the plot\n",
    "    plt.show()\n"
   ]
  },
  {
   "attachments": {},
   "cell_type": "markdown",
   "metadata": {},
   "source": [
    "## 计算TDA v.s. Acc相关性和画图"
   ]
  },
  {
   "cell_type": "code",
   "execution_count": 165,
   "metadata": {},
   "outputs": [
    {
     "name": "stdout",
     "output_type": "stream",
     "text": [
      "DataFrame saved to ./output_correlation/TDA_output_correlation_50.xlsx\n",
      "DataFrame saved to ./output_correlation/TDA_data_correlation_50.xlsx\n",
      "Column     LeNet       MLP  ResNet101  ResNet152  ResNet18  ResNet34  ResNet50\n",
      "Sheet                                                                         \n",
      "Angle   0.333329  0.380527   0.110650  -0.132465  0.137789  0.080418  0.105935\n",
      "Scale  -0.501236 -0.457129  -0.010872  -0.056832  0.189723 -0.053880 -0.200198\n",
      "Column     LeNet       MLP  ResNet101  ResNet152  ResNet18  ResNet34  ResNet50\n",
      "Sheet                                                                         \n",
      "Angle   0.397718  0.468937   0.093023  -0.151779  0.189819  0.117161  0.134636\n",
      "Scale   0.260999 -0.051396   0.358290   0.299975  0.402174 -0.183391  0.366782\n"
     ]
    }
   ],
   "source": [
    "# Example Usage:\n",
    "file_path1 = './input_data/best_val_acc.xlsx'\n",
    "file_path2 = './input_data/TDA_out_2_all_bars_surviver_time.xlsx'\n",
    "file_path_data = './input_data/TDA_data.xlsx'\n",
    "sheet_names = ['Scale', 'Angle']\n",
    "column_names = ['MLP', 'LeNet', 'ResNet18', 'ResNet34', 'ResNet50', 'ResNet101', 'ResNet152']\n",
    "percenatge = 50\n",
    "model_excel_path=f'./output_correlation/TDA_output_correlation_{percenatge}.xlsx'\n",
    "data_excel_path=f'./output_correlation/TDA_data_correlation_{percenatge}.xlsx'\n",
    "TDA_correlation_df = calculate_correlations_for_all_columns(file_path1, file_path2, sheet_names, column_names,column_names, excel_path=model_excel_path, percentage=percenatge)\n",
    "TDA_correlation_df_data = calculate_correlations_for_all_columns(file_path1, file_path_data, sheet_names, column_names,['Data']*7, if_data=True, excel_path=data_excel_path, percentage=percenatge)\n",
    "# Display the resulting DataFrame\n",
    "print(TDA_correlation_df)\n",
    "print(TDA_correlation_df_data)"
   ]
  },
  {
   "cell_type": "code",
   "execution_count": 166,
   "metadata": {},
   "outputs": [
    {
     "data": {
      "image/png": "[encoded data removed]",
      "text/plain": [
       "<Figure size 640x480 with 1 Axes>"
      ]
     },
     "metadata": {},
     "output_type": "display_data"
    }
   ],
   "source": [
    "# Example Usage:\n",
    "TDA_file_path1 = model_excel_path\n",
    "TDA_file_path2 = data_excel_path\n",
    "row_index = 1  # Choose the row index to plot\n",
    "\n",
    "plot_grouped_bar_chart(TDA_file_path1, TDA_file_path2, row_index, title_key=f'TDA {percenatge}')\n"
   ]
  },
  {
   "attachments": {},
   "cell_type": "markdown",
   "metadata": {},
   "source": [
    "## 计算BOF v.s. Acc 的相关性和画图"
   ]
  },
  {
   "cell_type": "code",
   "execution_count": 167,
   "metadata": {},
   "outputs": [
    {
     "name": "stdout",
     "output_type": "stream",
     "text": [
      "DataFrame saved to ./output_correlation/rk_max_BOF_data_correlation_100.xlsx\n",
      "Column     LeNet       MLP  ResNet101  ResNet152  ResNet18  ResNet34  ResNet50\n",
      "Sheet                                                                         \n",
      "Angle  -0.408181 -0.425066  -0.242014  -0.059754 -0.314307 -0.299163 -0.247753\n",
      "Scale  -0.868324 -0.928305  -0.863178  -0.886059 -0.821277 -0.941224 -0.831997\n"
     ]
    }
   ],
   "source": [
    "# Example Usage:\n",
    "BOF_file_path1 = './input_data/best_val_acc.xlsx'\n",
    "# file_path2 = './input_data/BOF_data.xlsx'\n",
    "BOF_file_path_data = './input_data/BOF_data.xlsx'\n",
    "sheet_names = ['Scale', 'Angle']\n",
    "column_names = ['MLP', 'LeNet', 'ResNet18', 'ResNet34', 'ResNet50', 'ResNet101', 'ResNet152']\n",
    "percenatge = 100\n",
    "chose = 'rk_max'\n",
    "excel_path=f'./output_correlation/{chose}_BOF_data_correlation_{percenatge}.xlsx'\n",
    "# correlation_df = calculate_correlations_for_all_columns(file_path1, file_path2, sheet_names, column_names,column_names, excel_path='./output_correlation/TDA_output_correlation.xlsx')\n",
    "correlation_df_data = calculate_correlations_for_all_columns(BOF_file_path1, BOF_file_path_data, sheet_names, column_names,[f'{chose}']*7, if_data=True, excel_path=excel_path, percentage=percenatge)\n",
    "# Display the resulting DataFrame\n",
    "# print(correlation_df)\n",
    "print(correlation_df_data)"
   ]
  },
  {
   "cell_type": "code",
   "execution_count": 168,
   "metadata": {},
   "outputs": [
    {
     "data": {
      "image/png": "[encoded data removed]",
      "text/plain": [
       "<Figure size 640x480 with 1 Axes>"
      ]
     },
     "metadata": {},
     "output_type": "display_data"
    }
   ],
   "source": [
    "# Example Usage:\n",
    "file_path1 = f'./output_correlation/r0_BOF_data_correlation_{percenatge}.xlsx'\n",
    "file_path2 = f'./output_correlation/rk_max_BOF_data_correlation_{percenatge}.xlsx'\n",
    "row_index = 0  # Choose the row index to plot\n",
    "\n",
    "plot_grouped_bar_chart(file_path1, file_path2, row_index, label1='r0 v.s. Acc', label2='rk max v.s. Acc', title_key=f'BOF_{percenatge}')\n"
   ]
  },
  {
   "attachments": {},
   "cell_type": "markdown",
   "metadata": {},
   "source": [
    "# 绘制输入中的数据\n",
    "\n",
    "我发现计算得到的相关度和预计的有一些差距，为了研究这个问题，我决定探究一下输入数据的情况。"
   ]
  },
  {
   "attachments": {},
   "cell_type": "markdown",
   "metadata": {},
   "source": [
    "## 首先定义一些函数用来画图"
   ]
  },
  {
   "attachments": {},
   "cell_type": "markdown",
   "metadata": {},
   "source": [
    "### 一个读取excle的函数"
   ]
  },
  {
   "cell_type": "code",
   "execution_count": 169,
   "metadata": {},
   "outputs": [
    {
     "name": "stdout",
     "output_type": "stream",
     "text": [
      "Sheet 1:\n",
      "     LeNet     MLP  ResNet18  ResNet34  ResNet50  ResNet101  ResNet152\n",
      "0   0.6314  0.5229    0.8807    0.9164    0.8870     0.8948     0.8946\n",
      "1   0.6725  0.5775    0.8914    0.9198    0.9025     0.9073     0.9070\n",
      "2   0.6970  0.5867    0.9023    0.8934    0.9074     0.9141     0.9149\n",
      "3   0.6836  0.5939    0.9042    0.9300    0.9152     0.9176     0.9181\n",
      "4   0.7065  0.5860    0.9099    0.9306    0.9192     0.9206     0.9201\n",
      "5   0.7161  0.5926    0.9156    0.9355    0.9231     0.9236     0.9250\n",
      "6   0.7228  0.5963    0.9184    0.9372    0.9213     0.9257     0.9243\n",
      "7   0.7260  0.5972    0.9238    0.9357    0.9317     0.9269     0.9348\n",
      "8   0.7220  0.6067    0.9277    0.9384    0.9273     0.9316     0.9269\n",
      "9   0.7312  0.5989    0.9282    0.9377    0.9340     0.9371     0.9353\n",
      "10  0.7190  0.5991    0.9315    0.9353    0.9287     0.9390     0.9405\n",
      "11  0.7246  0.5975    0.9312    0.9383    0.9287     0.9386     0.9293\n",
      "12  0.7246  0.5960    0.9225    0.9290    0.9293     0.9386     0.9278\n",
      "13  0.7250  0.5997    0.9279    0.9301    0.9280     0.9389     0.9282\n",
      "14  0.7313  0.5962    0.9246    0.9289    0.9264     0.9397     0.9278\n",
      "15  0.7271  0.5946    0.9254    0.9301    0.9273     0.9265     0.9267\n",
      "16  0.7294  0.5899    0.9228    0.9264    0.9265     0.9280     0.9291\n",
      "17  0.7165  0.5841    0.9214    0.9248    0.9277     0.9255     0.9228\n",
      "18  0.7188  0.5847    0.9207    0.9244    0.9266     0.9270     0.9261\n",
      "19  0.7157  0.5809    0.9194    0.9245    0.9236     0.9239     0.9222\n",
      "20  0.7135  0.5867    0.9192    0.9225    0.9208     0.9228     0.9242\n",
      "21  0.6958  0.5836    0.9160    0.9196    0.9199     0.9215     0.9198\n",
      "22  0.6958  0.5784    0.9161    0.9198    0.9201     0.9181     0.9180\n",
      "23  0.6966  0.5643    0.9115    0.9156    0.9217     0.9165     0.9148\n",
      "24  0.6766  0.5582    0.9123    0.9129    0.9225     0.9140     0.9135\n",
      "25  0.6831  0.5616    0.9056    0.9132    0.9138     0.9111     0.9085\n",
      "26  0.6705  0.5466    0.9078    0.9097    0.9176     0.9084     0.9049\n",
      "27  0.6619  0.5414    0.8995    0.9147    0.9139     0.9045     0.9040\n",
      "28  0.6547  0.5361    0.8956    0.9016    0.9008     0.9022     0.8998\n",
      "29  0.6524  0.5255    0.8920    0.8952    0.8938     0.8949     0.8962\n",
      "30  0.6446  0.5161    0.8895    0.8923    0.8889     0.8912     0.8931\n",
      "31  0.6367  0.5105    0.8819    0.8877    0.8876     0.8852     0.8862\n",
      "32  0.6232  0.5039    0.8722    0.8788    0.8801     0.8812     0.8807\n",
      "33  0.6140  0.4947    0.8681    0.8714    0.8738     0.8776     0.8733\n",
      "34  0.6030  0.4816    0.8586    0.8655    0.8652     0.8669     0.8649\n",
      "35  0.5912  0.4742    0.8501    0.8592    0.8563     0.8565     0.8573\n",
      "36  0.5729  0.4618    0.8418    0.8475    0.8473     0.8514     0.8482\n",
      "37  0.5651  0.4523    0.8316    0.8388    0.8361     0.8360     0.8361\n",
      "38  0.5508  0.4423    0.8174    0.8204    0.8224     0.8243     0.8257\n",
      "39  0.5323  0.4325    0.8013    0.8074    0.8084     0.8072     0.8075\n",
      "40  0.5288  0.4133    0.7835    0.7915    0.7924     0.7931     0.7925\n",
      "41  0.5142  0.4015    0.7625    0.7712    0.7736     0.7749     0.7783\n",
      "42  0.4925  0.3825    0.7385    0.7449    0.7470     0.7468     0.7452\n",
      "43  0.4717  0.3843    0.7043    0.7210    0.7177     0.7128     0.7120\n",
      "44  0.4518  0.3599    0.6762    0.6803    0.6787     0.6813     0.6773\n",
      "45  0.4338  0.3423    0.6293    0.6369    0.6380     0.6383     0.6362\n",
      "\n",
      "Sheet 2:\n",
      "      LeNet     MLP  ResNet18  ResNet34  ResNet50  ResNet101  ResNet152\n",
      "0    0.6417  0.5097    0.8816    0.8894    0.8893     0.8912     0.8954\n",
      "1    0.6574  0.5642    0.8747    0.8867    0.8888     0.8884     0.8917\n",
      "2    0.6618  0.5593    0.8788    0.8917    0.8941     0.8942     0.8968\n",
      "3    0.6384  0.5770    0.8798    0.8943    0.8945     0.8991     0.9005\n",
      "4    0.6662  0.5740    0.8854    0.8926    0.8947     0.9056     0.9033\n",
      "..      ...     ...       ...       ...       ...        ...        ...\n",
      "175  0.6214  0.5217    0.8930    0.9064    0.9036     0.9105     0.9071\n",
      "176  0.6255  0.5175    0.8891    0.9014    0.9021     0.9056     0.9130\n",
      "177  0.6300  0.5200    0.8955    0.9063    0.9014     0.9054     0.9130\n",
      "178  0.6267  0.5209    0.8933    0.9047    0.9046     0.9040     0.9127\n",
      "179  0.6267  0.5244    0.8905    0.9009    0.9049     0.9066     0.9112\n",
      "\n",
      "[180 rows x 7 columns]\n",
      "\n"
     ]
    }
   ],
   "source": [
    "import pandas as pd\n",
    "\n",
    "def read_excel(file_path):\n",
    "    # 读取Excel文件\n",
    "    xls = pd.ExcelFile(file_path)\n",
    "\n",
    "    # 获取所有Sheet的名称\n",
    "    sheet_names = xls.sheet_names\n",
    "\n",
    "    # 用于存储每个Sheet的DataFrame\n",
    "    dataframes = []\n",
    "\n",
    "    # 遍历每个Sheet，读取数据并转换为DataFrame\n",
    "    for sheet_name in sheet_names:\n",
    "        df = xls.parse(sheet_name)\n",
    "        dataframes.append(df)\n",
    "\n",
    "    return dataframes\n",
    "\n",
    "file_path = \"./input_data/best_val_acc.xlsx\"\n",
    "dfs = read_excel(file_path)\n",
    "\n",
    "# 打印每个DataFrame\n",
    "for i, df in enumerate(dfs):\n",
    "    print(f\"Sheet {i+1}:\\n{df}\\n\")"
   ]
  },
  {
   "attachments": {},
   "cell_type": "markdown",
   "metadata": {},
   "source": [
    "### 绘制函数图像"
   ]
  },
  {
   "cell_type": "code",
   "execution_count": 170,
   "metadata": {},
   "outputs": [],
   "source": [
    "import os\n",
    "import pandas as pd\n",
    "import matplotlib.pyplot as plt\n",
    "\n",
    "def plot_line_graphs(df, output_folder, xlabel: str= 'Enhanced strength', ylabel:str = 'Performance of the model', fig_title:str = 'Optimal performance of the model under', save_name:str = 'Scale'):\n",
    "    # 创建输出文件夹（如果不存在）\n",
    "    os.makedirs(output_folder, exist_ok=True)\n",
    "\n",
    "    # 获取DataFrame的列名\n",
    "    columns = df.columns\n",
    "\n",
    "    # 遍历每一列，绘制折线图并保存为PDF\n",
    "    for column in columns:\n",
    "        # 创建一个新的图形\n",
    "        plt.figure()\n",
    "\n",
    "        # 归一化横坐标\n",
    "        x = range(len(df))\n",
    "        x_normalized = [(val - min(x)) / (max(x) - min(x)) for val in x]\n",
    "\n",
    "        # 设置线和标记的样式\n",
    "        plt.plot(x_normalized, df[column], linewidth=2, color='blue', marker='o', markersize=3, markerfacecolor='red')\n",
    "\n",
    "\n",
    "        # 添加标题和轴标签\n",
    "        plt.title(fig_title +\" \" + save_name)\n",
    "        plt.xlabel(xlabel=xlabel)\n",
    "        plt.ylabel(ylabel=ylabel)\n",
    "\n",
    "        # 保存为PDF文件\n",
    "        output_path = os.path.join(output_folder, column + save_name + '.pdf')\n",
    "        plt.savefig(output_path)\n",
    "\n",
    "        # 关闭图形\n",
    "        plt.close()\n",
    "\n",
    "import pandas as pd\n",
    "\n",
    "# 创建一个示例DataFrame\n",
    "data = dfs[0]\n",
    "df = pd.DataFrame(data)\n",
    "\n",
    "# 调用函数绘制折线图并保存为PDF\n",
    "output_folder = \"./draw_input/Acc/\"\n",
    "plot_line_graphs(df, output_folder)"
   ]
  },
  {
   "attachments": {},
   "cell_type": "markdown",
   "metadata": {},
   "source": [
    "## 绘制图像"
   ]
  },
  {
   "attachments": {},
   "cell_type": "markdown",
   "metadata": {},
   "source": [
    "### 绘制Acc"
   ]
  },
  {
   "attachments": {},
   "cell_type": "markdown",
   "metadata": {},
   "source": [
    "#### 独立绘制"
   ]
  },
  {
   "cell_type": "code",
   "execution_count": 171,
   "metadata": {},
   "outputs": [
    {
     "name": "stdout",
     "output_type": "stream",
     "text": [
      "Sheet 1:\n",
      "     LeNet     MLP  ResNet18  ResNet34  ResNet50  ResNet101  ResNet152\n",
      "0   0.6314  0.5229    0.8807    0.9164    0.8870     0.8948     0.8946\n",
      "1   0.6725  0.5775    0.8914    0.9198    0.9025     0.9073     0.9070\n",
      "2   0.6970  0.5867    0.9023    0.8934    0.9074     0.9141     0.9149\n",
      "3   0.6836  0.5939    0.9042    0.9300    0.9152     0.9176     0.9181\n",
      "4   0.7065  0.5860    0.9099    0.9306    0.9192     0.9206     0.9201\n",
      "5   0.7161  0.5926    0.9156    0.9355    0.9231     0.9236     0.9250\n",
      "6   0.7228  0.5963    0.9184    0.9372    0.9213     0.9257     0.9243\n",
      "7   0.7260  0.5972    0.9238    0.9357    0.9317     0.9269     0.9348\n",
      "8   0.7220  0.6067    0.9277    0.9384    0.9273     0.9316     0.9269\n",
      "9   0.7312  0.5989    0.9282    0.9377    0.9340     0.9371     0.9353\n",
      "10  0.7190  0.5991    0.9315    0.9353    0.9287     0.9390     0.9405\n",
      "11  0.7246  0.5975    0.9312    0.9383    0.9287     0.9386     0.9293\n",
      "12  0.7246  0.5960    0.9225    0.9290    0.9293     0.9386     0.9278\n",
      "13  0.7250  0.5997    0.9279    0.9301    0.9280     0.9389     0.9282\n",
      "14  0.7313  0.5962    0.9246    0.9289    0.9264     0.9397     0.9278\n",
      "15  0.7271  0.5946    0.9254    0.9301    0.9273     0.9265     0.9267\n",
      "16  0.7294  0.5899    0.9228    0.9264    0.9265     0.9280     0.9291\n",
      "17  0.7165  0.5841    0.9214    0.9248    0.9277     0.9255     0.9228\n",
      "18  0.7188  0.5847    0.9207    0.9244    0.9266     0.9270     0.9261\n",
      "19  0.7157  0.5809    0.9194    0.9245    0.9236     0.9239     0.9222\n",
      "20  0.7135  0.5867    0.9192    0.9225    0.9208     0.9228     0.9242\n",
      "21  0.6958  0.5836    0.9160    0.9196    0.9199     0.9215     0.9198\n",
      "22  0.6958  0.5784    0.9161    0.9198    0.9201     0.9181     0.9180\n",
      "23  0.6966  0.5643    0.9115    0.9156    0.9217     0.9165     0.9148\n",
      "24  0.6766  0.5582    0.9123    0.9129    0.9225     0.9140     0.9135\n",
      "25  0.6831  0.5616    0.9056    0.9132    0.9138     0.9111     0.9085\n",
      "26  0.6705  0.5466    0.9078    0.9097    0.9176     0.9084     0.9049\n",
      "27  0.6619  0.5414    0.8995    0.9147    0.9139     0.9045     0.9040\n",
      "28  0.6547  0.5361    0.8956    0.9016    0.9008     0.9022     0.8998\n",
      "29  0.6524  0.5255    0.8920    0.8952    0.8938     0.8949     0.8962\n",
      "30  0.6446  0.5161    0.8895    0.8923    0.8889     0.8912     0.8931\n",
      "31  0.6367  0.5105    0.8819    0.8877    0.8876     0.8852     0.8862\n",
      "32  0.6232  0.5039    0.8722    0.8788    0.8801     0.8812     0.8807\n",
      "33  0.6140  0.4947    0.8681    0.8714    0.8738     0.8776     0.8733\n",
      "34  0.6030  0.4816    0.8586    0.8655    0.8652     0.8669     0.8649\n",
      "35  0.5912  0.4742    0.8501    0.8592    0.8563     0.8565     0.8573\n",
      "36  0.5729  0.4618    0.8418    0.8475    0.8473     0.8514     0.8482\n",
      "37  0.5651  0.4523    0.8316    0.8388    0.8361     0.8360     0.8361\n",
      "38  0.5508  0.4423    0.8174    0.8204    0.8224     0.8243     0.8257\n",
      "39  0.5323  0.4325    0.8013    0.8074    0.8084     0.8072     0.8075\n",
      "40  0.5288  0.4133    0.7835    0.7915    0.7924     0.7931     0.7925\n",
      "41  0.5142  0.4015    0.7625    0.7712    0.7736     0.7749     0.7783\n",
      "42  0.4925  0.3825    0.7385    0.7449    0.7470     0.7468     0.7452\n",
      "43  0.4717  0.3843    0.7043    0.7210    0.7177     0.7128     0.7120\n",
      "44  0.4518  0.3599    0.6762    0.6803    0.6787     0.6813     0.6773\n",
      "45  0.4338  0.3423    0.6293    0.6369    0.6380     0.6383     0.6362\n",
      "\n",
      "Sheet 2:\n",
      "      LeNet     MLP  ResNet18  ResNet34  ResNet50  ResNet101  ResNet152\n",
      "0    0.6417  0.5097    0.8816    0.8894    0.8893     0.8912     0.8954\n",
      "1    0.6574  0.5642    0.8747    0.8867    0.8888     0.8884     0.8917\n",
      "2    0.6618  0.5593    0.8788    0.8917    0.8941     0.8942     0.8968\n",
      "3    0.6384  0.5770    0.8798    0.8943    0.8945     0.8991     0.9005\n",
      "4    0.6662  0.5740    0.8854    0.8926    0.8947     0.9056     0.9033\n",
      "..      ...     ...       ...       ...       ...        ...        ...\n",
      "175  0.6214  0.5217    0.8930    0.9064    0.9036     0.9105     0.9071\n",
      "176  0.6255  0.5175    0.8891    0.9014    0.9021     0.9056     0.9130\n",
      "177  0.6300  0.5200    0.8955    0.9063    0.9014     0.9054     0.9130\n",
      "178  0.6267  0.5209    0.8933    0.9047    0.9046     0.9040     0.9127\n",
      "179  0.6267  0.5244    0.8905    0.9009    0.9049     0.9066     0.9112\n",
      "\n",
      "[180 rows x 7 columns]\n",
      "\n"
     ]
    }
   ],
   "source": [
    "# 加载数据到df\n",
    "file_path = \"./input_data/best_val_acc.xlsx\"\n",
    "dfs = read_excel(file_path)\n",
    "\n",
    "# 打印每个DataFrame\n",
    "for i, df in enumerate(dfs):\n",
    "    print(f\"Sheet {i+1}:\\n{df}\\n\")\n",
    "\n",
    "# 绘制图像为pdf\n",
    "data = dfs[1]\n",
    "df = pd.DataFrame(data)\n",
    "\n",
    "# 调用函数绘制折线图并保存为PDF\n",
    "output_folder = \"./draw_input/Acc_all\"\n",
    "plot_line_graphs(df, output_folder, save_name='Angle')"
   ]
  },
  {
   "attachments": {},
   "cell_type": "markdown",
   "metadata": {},
   "source": [
    "#### 一起绘制"
   ]
  },
  {
   "cell_type": "code",
   "execution_count": 172,
   "metadata": {},
   "outputs": [
    {
     "name": "stdout",
     "output_type": "stream",
     "text": [
      "LeNet\n",
      "MLP\n",
      "ResNet18\n",
      "ResNet34\n",
      "ResNet50\n",
      "ResNet101\n",
      "ResNet152\n"
     ]
    }
   ],
   "source": [
    "def plot_line_graphs_all_in_one(df, output_folder='./draw_input/acc_all_in_one', xlabel='Enhanced strength', ylabel='Performance of the model', fig_title='Optimal performance of the model under', save_name='Scale'):\n",
    "    # 创建输出文件夹（如果不存在）\n",
    "    os.makedirs(output_folder, exist_ok=True)\n",
    "\n",
    "    # 创建一个新的图形\n",
    "    plt.figure(figsize=(15, len(df.columns) * 1.5))\n",
    "\n",
    "    # 获取DataFrame的列名\n",
    "    columns = df.columns\n",
    "\n",
    "    # 归一化横坐标\n",
    "    x = range(len(df))\n",
    "    x_normalized = [(val - min(x)) / (max(x) - min(x)) for val in x]\n",
    "\n",
    "    # 遍历每一列，绘制折线图\n",
    "    for column in columns:\n",
    "        print(column)\n",
    "        if column != 'Index':\n",
    "            # 设置线和标记的样式，每条曲线使用不同的颜色\n",
    "            plt.plot(x_normalized, df[column], label=column, linewidth=2, marker='o', markersize=3)\n",
    "\n",
    "    # 添加标题和轴标签\n",
    "    plt.title(fig_title + \" \" + save_name)\n",
    "    plt.xlabel(xlabel=xlabel)\n",
    "    plt.ylabel(ylabel=ylabel)\n",
    "\n",
    "    # 添加图例，将图例放在图形的右上角\n",
    "    plt.legend(bbox_to_anchor=(1.05, 1), loc='upper left')\n",
    "\n",
    "    # 自动调整布局\n",
    "    plt.tight_layout()\n",
    "\n",
    "    # 保存为PDF文件\n",
    "    output_path = os.path.join(output_folder, f'combined_plot_{save_name}.pdf')\n",
    "    plt.savefig(output_path)\n",
    "\n",
    "    # 关闭图形\n",
    "    plt.close()\n",
    "\n",
    "\n",
    "\n",
    "\n",
    "# 加载数据到df\n",
    "file_path = \"./input_data/best_val_acc.xlsx\"\n",
    "dfs = read_excel(file_path)\n",
    "\n",
    "\n",
    "# 绘制图像为pdf\n",
    "data = dfs[1]\n",
    "df = pd.DataFrame(data)\n",
    "# 调用函数绘制折线图并保存为PDF\n",
    "plot_line_graphs_all_in_one(df, save_name='Angle')\n",
    "\n"
   ]
  },
  {
   "attachments": {},
   "cell_type": "markdown",
   "metadata": {},
   "source": [
    "### 绘制BOF"
   ]
  },
  {
   "cell_type": "code",
   "execution_count": 173,
   "metadata": {},
   "outputs": [
    {
     "name": "stdout",
     "output_type": "stream",
     "text": [
      "Sheet 1:\n",
      "          r0        R0  rk_max_index      rk_max       Rk_max\n",
      "0   3.436844  9.225692    933.000000  341.117767   672.763733\n",
      "1   3.413863  9.056010    934.599976  334.460754   661.249878\n",
      "2   3.412494  9.002722    999.799988  327.374146   647.545837\n",
      "3   3.426091  9.025197    980.700012  322.459290   638.184448\n",
      "4   3.449736  9.092059   1339.900024  319.594452   628.856140\n",
      "5   3.471112  9.155492   1747.599976  319.005188   621.564087\n",
      "6   3.496571  9.233131   1783.900024  319.837219   621.670898\n",
      "7   3.521122  9.310081   1786.500000  322.247742   624.957520\n",
      "8   3.543707  9.378830   1804.099976  322.909851   626.623657\n",
      "9   3.566939  9.448359   1788.500000  325.439392   631.996704\n",
      "10  3.591511  9.523071   1816.599976  327.901184   632.762146\n",
      "11  3.610572  9.579646   1834.500000  330.086853   635.375305\n",
      "12  3.628019  9.616961   1879.099976  333.850006   636.865967\n",
      "13  3.645803  9.645788   1943.900024  339.183289   638.848206\n",
      "14  3.660711  9.674059   1937.400024  344.631409   651.442383\n",
      "15  3.682519  9.729629   1927.599976  348.233337   656.835938\n",
      "16  3.702788  9.780882   1911.199951  349.840820   662.027466\n",
      "17  3.715076  9.805416   1883.400024  352.301117   669.767456\n",
      "18  3.728948  9.826155   1859.400024  355.485901   676.174072\n",
      "19  3.739496  9.836319   1860.599976  358.657166   680.317078\n",
      "20  3.742923  9.827528   1874.699951  361.694153   683.149048\n",
      "21  3.747431  9.810473   1875.000000  362.717651   687.136108\n",
      "22  3.739839  9.756715   1863.800049  364.082642   693.695007\n",
      "23  3.731948  9.702590   1853.000000  367.032074   700.895264\n",
      "24  3.719022  9.630360   1843.199951  371.166656   710.549500\n",
      "25  3.700471  9.535963   1898.400024  376.178802   711.356506\n",
      "26  3.674279  9.416683   1906.599976  382.077850   721.590088\n",
      "27  3.642813  9.280490   1907.400024  388.164490   734.166138\n",
      "28  3.607405  9.130258   1923.099976  395.140961   748.337463\n",
      "29  3.571707  8.970689   1905.400024  399.412567   760.139771\n",
      "30  3.522975  8.782359   1917.000000  403.341248   773.919067\n",
      "31  3.462375  8.555409   2287.100098  414.512115   690.032593\n",
      "32  3.406124  8.337491   2273.699951  435.976013   712.542786\n",
      "33  3.330058  8.056582   2233.899902  466.745941   753.131775\n",
      "34  3.255268  7.782499   2136.500000  499.923981   828.706238\n",
      "35  3.180345  7.505847   2089.100098  532.262817   875.065735\n",
      "36  3.088823  7.190418   2053.399902  574.255127   919.173157\n",
      "37  2.987963  6.838676   2020.000000  584.514832   943.890930\n",
      "38  2.899739  6.532289   1969.500000  618.833862   991.336792\n",
      "39  2.786475  6.148478   1900.599976  665.704712  1058.402710\n",
      "40  2.671282  5.765438   1903.599976  698.009827  1067.703857\n",
      "41  2.558241  5.390451   1792.400024  722.881958  1146.024414\n",
      "42  2.433268  4.984933   1687.000000  747.648438  1211.722656\n",
      "43  2.310820  4.585621   1616.199951  810.033752  1265.947144\n",
      "44  2.172992  4.148550   1503.500000  816.301880  1292.406616\n",
      "45  2.032010  3.708257   1448.800049  829.649414  1256.061646\n",
      "\n",
      "Sheet 2:\n",
      "           r0         R0  rk_max_index      rk_max      Rk_max\n",
      "0    3.436844   9.225692    933.000000  341.117767  672.763733\n",
      "1    3.436844   9.225692    933.000000  341.117767  672.763733\n",
      "2    3.441670   9.250445    919.500000  342.569519  675.530640\n",
      "3    3.531174   9.701516    834.000000  350.708099  689.029907\n",
      "4    3.617993  10.124013    829.799988  355.236145  694.009827\n",
      "..        ...        ...           ...         ...         ...\n",
      "175  4.834252  15.345339   1797.699951  524.452698  916.890747\n",
      "176  4.833089  15.337979   1797.400024  524.088684  917.023438\n",
      "177  4.835932  15.345329   1806.300049  523.691711  912.990112\n",
      "178  4.830058  15.316816   1804.300049  523.340454  913.858582\n",
      "179  4.826373  15.295166   1799.400024  522.819946  915.741516\n",
      "\n",
      "[180 rows x 5 columns]\n",
      "\n"
     ]
    }
   ],
   "source": [
    "# 绘制Data BOF\n",
    "# 加载数据到df\n",
    "file_path = \"./input_data/BOF_data.xlsx\"\n",
    "dfs = read_excel(file_path)\n",
    "\n",
    "# 打印每个DataFrame\n",
    "for i, df in enumerate(dfs):\n",
    "    print(f\"Sheet {i+1}:\\n{df}\\n\")\n",
    "\n",
    "# 绘制图像为pdf\n",
    "data = dfs[1]\n",
    "df = pd.DataFrame(data)\n",
    "\n",
    "# 调用函数绘制折线图并保存为PDF\n",
    "output_folder = \"./draw_input/BOF\"\n",
    "plot_line_graphs(df, output_folder, save_name='Angle', ylabel='BOF', fig_title='BOF of Data')"
   ]
  },
  {
   "attachments": {},
   "cell_type": "markdown",
   "metadata": {},
   "source": [
    "### 绘制TDA"
   ]
  },
  {
   "cell_type": "code",
   "execution_count": 174,
   "metadata": {},
   "outputs": [
    {
     "name": "stdout",
     "output_type": "stream",
     "text": [
      "Sheet 1:\n",
      "          Data\n",
      "0   692.552284\n",
      "1   687.346969\n",
      "2   688.396944\n",
      "3   687.657427\n",
      "4   691.318258\n",
      "5   696.467763\n",
      "6   688.518457\n",
      "7   696.477020\n",
      "8   692.843704\n",
      "9   702.311659\n",
      "10  702.346823\n",
      "11  695.016732\n",
      "12  695.719293\n",
      "13  701.916926\n",
      "14  703.176895\n",
      "15  700.250126\n",
      "16  701.874007\n",
      "17  705.502274\n",
      "18  704.909208\n",
      "19  701.585905\n",
      "20  708.894286\n",
      "21  704.751849\n",
      "22  703.437700\n",
      "23  695.001254\n",
      "24  703.134517\n",
      "25  697.968605\n",
      "26  692.363449\n",
      "27  694.228293\n",
      "28  691.691386\n",
      "29  686.135951\n",
      "30  684.079643\n",
      "31  681.499469\n",
      "32  674.154918\n",
      "33  677.947637\n",
      "34  670.924781\n",
      "35  653.665044\n",
      "36  656.900672\n",
      "37  648.039264\n",
      "38  631.638360\n",
      "39  624.044938\n",
      "40  621.189725\n",
      "41  609.283009\n",
      "42  584.333142\n",
      "43  582.201653\n",
      "44  568.525133\n",
      "45  543.987371\n",
      "\n",
      "Sheet 2:\n",
      "           Data\n",
      "0    692.552284\n",
      "1    692.552284\n",
      "2    693.434436\n",
      "3    702.030693\n",
      "4    706.116692\n",
      "..          ...\n",
      "175  644.969608\n",
      "176  650.599491\n",
      "177  636.412558\n",
      "178  644.287663\n",
      "179  647.956338\n",
      "\n",
      "[180 rows x 1 columns]\n",
      "\n",
      "Sheet 1:\n",
      "         LeNet         MLP    ResNet18    ResNet34    ResNet50   ResNet101  \\\n",
      "0   764.291504  735.097290  852.075195  856.924744  792.492188  795.289612   \n",
      "1   728.243225  733.074402  851.123962  852.138855  787.164917  795.423218   \n",
      "2   727.732422  731.487488  848.735840  846.457520  788.359802  792.252441   \n",
      "3   727.949341  730.976074  848.616943  851.033691  776.492249  784.035828   \n",
      "4   714.835266  732.650757  848.768494  848.694336  784.229370  790.551880   \n",
      "5   713.442566  730.146606  848.889038  849.152649  780.938599  788.291138   \n",
      "6   746.007263  728.448730  844.342773  842.252502  777.852783  782.106873   \n",
      "7   719.343811  729.145996  850.138428  847.128906  784.883057  791.635864   \n",
      "8   714.525818  722.642212  847.848022  848.509521  781.885376  786.900757   \n",
      "9   711.118164  722.364929  852.497925  849.020386  781.861267  787.934753   \n",
      "10  725.121216  725.401001  849.064331  841.624512  791.490417  795.466248   \n",
      "11  720.786072  716.718384  845.717041  844.359192  782.237793  786.076294   \n",
      "12  705.812073  726.027649  854.976379  847.155701  779.259338  785.127197   \n",
      "13  718.479797  720.029480  855.674560  853.329834  786.889526  792.466614   \n",
      "14  705.917114  722.070251  855.471497  852.930115  787.061707  792.664490   \n",
      "15  700.670898  726.460266  856.112671  839.962158  786.398193  791.306641   \n",
      "16  707.571228  722.070129  853.665405  842.346191  787.300842  791.484314   \n",
      "17  721.567200  725.688538  855.226685  838.931335  780.037231  782.815552   \n",
      "18  720.772888  734.511414  849.656921  839.466492  791.236511  794.805298   \n",
      "19  710.991577  718.126526  850.908447  844.444946  788.957275  794.226746   \n",
      "20  720.626282  721.733032  857.654297  854.039185  786.024048  790.437073   \n",
      "21  707.069641  730.825623  853.588379  842.322815  782.503235  786.008118   \n",
      "22  712.513794  723.001587  849.543457  842.873474  785.877197  791.448669   \n",
      "23  707.874756  725.554749  848.982544  838.079468  784.952209  790.665588   \n",
      "24  709.805115  725.244751  838.680542  834.553101  784.353821  788.274719   \n",
      "25  718.367798  723.969177  846.540894  842.657532  776.247742  776.878418   \n",
      "26  709.738647  722.608398  843.508728  837.997314  781.137268  783.889526   \n",
      "27  704.520081  711.155029  839.324524  833.273499  783.345947  786.600281   \n",
      "28  687.243164  710.430481  841.524841  830.294739  786.082031  789.151001   \n",
      "29  693.169312  705.839111  840.267700  829.359314  782.064453  786.414429   \n",
      "30  699.028809  709.861084  841.168945  835.823975  773.877869  779.864136   \n",
      "31  696.930969  706.751221  845.264038  839.122131  776.440552  780.884338   \n",
      "32  692.974609  705.344116  838.948731  824.428162  772.432068  777.926025   \n",
      "33  677.510010  698.603516  829.851135  817.687561  762.722778  768.684448   \n",
      "34  682.966003  691.062866  829.625244  815.798950  768.029175  773.964722   \n",
      "35  685.891541  686.560120  833.305542  820.329285  758.020874  764.695496   \n",
      "36  689.336426  682.729431  821.854858  810.218262  753.412598  759.716125   \n",
      "37  687.248901  669.969788  826.613892  819.179810  744.492126  749.889343   \n",
      "38  674.981506  664.595886  818.287720  812.175537  745.809265  751.409790   \n",
      "39  673.024963  665.177246  819.336060  816.232544  740.878540  748.224182   \n",
      "40  671.096008  645.746948  810.964172  811.659973  730.444763  735.170288   \n",
      "41  657.463257  637.074219  800.915039  794.908508  726.851074  735.143250   \n",
      "42  655.630493  624.087952  789.771423  785.938416  710.398010  718.011353   \n",
      "43  642.034424  605.901367  783.095825  784.548462  703.862183  712.942200   \n",
      "44  630.865051  592.223511  778.727539  778.572998  688.063416  695.705200   \n",
      "45  613.117188  576.032104  759.920593  765.914490  661.040283  669.571838   \n",
      "\n",
      "     ResNet152  \n",
      "0   811.067627  \n",
      "1   803.293640  \n",
      "2   796.176941  \n",
      "3   791.660950  \n",
      "4   793.168823  \n",
      "5   793.846802  \n",
      "6   787.839966  \n",
      "7   798.560364  \n",
      "8   790.166992  \n",
      "9   792.396301  \n",
      "10  800.045532  \n",
      "11  789.686218  \n",
      "12  791.066772  \n",
      "13  798.049500  \n",
      "14  798.155518  \n",
      "15  796.396179  \n",
      "16  796.959839  \n",
      "17  787.483826  \n",
      "18  798.412476  \n",
      "19  799.384277  \n",
      "20  795.018127  \n",
      "21  790.827332  \n",
      "22  796.699036  \n",
      "23  795.475098  \n",
      "24  792.702271  \n",
      "25  780.805786  \n",
      "26  788.847839  \n",
      "27  789.872375  \n",
      "28  791.918701  \n",
      "29  790.411621  \n",
      "30  788.213806  \n",
      "31  784.869446  \n",
      "32  783.798706  \n",
      "33  775.420044  \n",
      "34  780.973694  \n",
      "35  771.698486  \n",
      "36  766.951721  \n",
      "37  756.888184  \n",
      "38  757.889832  \n",
      "39  755.529907  \n",
      "40  741.587036  \n",
      "41  742.406067  \n",
      "42  727.284851  \n",
      "43  723.366699  \n",
      "44  704.047058  \n",
      "45  679.313354  \n",
      "\n",
      "Sheet 2:\n",
      "          LeNet         MLP    ResNet18    ResNet34    ResNet50   ResNet101  \\\n",
      "0    764.291504  735.097290  852.075195  856.924744  792.492188  795.289612   \n",
      "1    764.291504  735.097290  852.075195  856.924744  792.492188  795.289612   \n",
      "2    762.869019  733.353821  851.667419  856.544067  794.639893  798.302795   \n",
      "3    713.115784  740.320740  857.549316  856.737854  795.859985  800.839600   \n",
      "4    690.708984  739.647095  856.884827  858.182373  794.277954  798.781799   \n",
      "..          ...         ...         ...         ...         ...         ...   \n",
      "175  651.705994  669.421814  796.936340  806.548401  659.685486  666.818726   \n",
      "176  651.943237  667.930298  798.028564  805.895874  662.982788  669.265930   \n",
      "177  651.251404  665.186768  796.493408  803.348022  664.484314  670.911255   \n",
      "178  659.765015  668.503174  794.606873  802.368469  667.960205  673.169189   \n",
      "179  656.028320  672.347595  792.636536  800.056458  668.369568  674.432312   \n",
      "\n",
      "      ResNet152  \n",
      "0    811.067627  \n",
      "1    811.067627  \n",
      "2    810.889160  \n",
      "3    807.993835  \n",
      "4    804.769043  \n",
      "..          ...  \n",
      "175  676.024048  \n",
      "176  677.785034  \n",
      "177  679.819336  \n",
      "178  680.525269  \n",
      "179         NaN  \n",
      "\n",
      "[180 rows x 7 columns]\n",
      "\n"
     ]
    }
   ],
   "source": [
    "# 绘制Data TDA\n",
    "# 加载数据到df\n",
    "file_path = \"./input_data/TDA_data.xlsx\"\n",
    "dfs = read_excel(file_path)\n",
    "\n",
    "# 打印每个DataFrame\n",
    "for i, df in enumerate(dfs):\n",
    "    print(f\"Sheet {i+1}:\\n{df}\\n\")\n",
    "\n",
    "# 绘制图像为pdf\n",
    "data = dfs[0]\n",
    "df = pd.DataFrame(data)\n",
    "\n",
    "# 调用函数绘制折线图并保存为PDF\n",
    "output_folder = \"./draw_input/TDA\"\n",
    "plot_line_graphs(df, output_folder, save_name='Scale', ylabel='TDA', fig_title='TDA of Data')\n",
    "\n",
    "# 绘制model TDA\n",
    "file_path = \"./input_data/TDA_out_2_all_bars_surviver_time.xlsx\"\n",
    "dfs = read_excel(file_path)\n",
    "\n",
    "# 打印每个DataFrame\n",
    "for i, df in enumerate(dfs):\n",
    "    print(f\"Sheet {i+1}:\\n{df}\\n\")\n",
    "\n",
    "# 绘制图像为pdf\n",
    "data = dfs[0]\n",
    "df = pd.DataFrame(data)\n",
    "\n",
    "# 调用函数绘制折线图并保存为PDF\n",
    "output_folder = \"./draw_input/TDA\"\n",
    "plot_line_graphs(df, output_folder, save_name='Sacle', ylabel='TDA', fig_title='TDA of Model')\n"
   ]
  },
  {
   "attachments": {},
   "cell_type": "markdown",
   "metadata": {},
   "source": [
    "# 绘制两个变量之间的关系\n",
    "\n",
    "我们发现，有一些变量关系之间的相关度很奇怪，为了稳妥起见，我们决定绘制出对应的**散点图**来辅助观察。"
   ]
  },
  {
   "attachments": {},
   "cell_type": "markdown",
   "metadata": {},
   "source": [
    "## 首先定义一些函数"
   ]
  },
  {
   "attachments": {},
   "cell_type": "markdown",
   "metadata": {},
   "source": [
    "### 定义读取数据的函数"
   ]
  },
  {
   "cell_type": "code",
   "execution_count": 175,
   "metadata": {},
   "outputs": [
    {
     "name": "stdout",
     "output_type": "stream",
     "text": [
      "Spearman Correlation Coefficient: 0.8480064144153323\n",
      "P-value: 1.0312485161095923e-13\n"
     ]
    }
   ],
   "source": [
    "import os\n",
    "import pandas as pd\n",
    "import matplotlib.pyplot as plt\n",
    "import seaborn as sns\n",
    "import uuid\n",
    "\n",
    "def calculate_correlation_and_plot_scatter(file_path1, sheet_name1, column_name1, file_path2, sheet_name2, column_name2, x:int =100, save_path:str='./scatter_diagram', my_title:str='Scale', my_xlabel:str='Performance of the ', my_ylabel:str=' on data'):\n",
    "    \"\"\"\n",
    "    Calculate the Spearman correlation between the first x% of data in two columns in different Excel files,\n",
    "    plot a scatter plot with control over point size and color, and save the plot as a PDF.\n",
    "\n",
    "    Parameters:\n",
    "    - file_path1 (str): Path to the first Excel file.\n",
    "    - sheet_name1 (str): Name of the sheet in the first Excel file.\n",
    "    - column_name1 (str): Name of the column in the first sheet for which correlation is calculated.\n",
    "\n",
    "    - file_path2 (str): Path to the second Excel file.\n",
    "    - sheet_name2 (str): Name of the sheet in the second Excel file.\n",
    "    - column_name2 (str): Name of the column in the second sheet for which correlation is calculated.\n",
    "\n",
    "    - x (float): The percentage of data to consider for correlation calculation.\n",
    "\n",
    "    - save_path (str, optional): Path to save the plot as a PDF. If None, the plot will be displayed but not saved.\n",
    "\n",
    "    Returns:\n",
    "    - float: The Spearman correlation coefficient.\n",
    "    - float: The two-tailed p-value for a hypothesis test whose null hypothesis is that the two samples are uncorrelated.\n",
    "    \"\"\"\n",
    "    # 创建输出文件夹（如果不存在）\n",
    "    # if not os.path.exists(save_path):\n",
    "    #     os.makedirs(save_path, exist_ok=True)\n",
    "\n",
    "    # Read data from Excel files\n",
    "    df1 = pd.read_excel(file_path1, sheet_name=sheet_name1)\n",
    "    df2 = pd.read_excel(file_path2, sheet_name=sheet_name2)\n",
    "\n",
    "    # Calculate the number of rows to select\n",
    "    num_rows = int(len(df1) * x / 100)\n",
    "\n",
    "    # Select the first x% of data\n",
    "    vector1 = df1[column_name1].head(num_rows).squeeze()  # 使用 .squeeze() 将二维转为一维\n",
    "    vector2 = df2[column_name2].head(num_rows).squeeze()  # 使用 .squeeze() 将二维转为一维\n",
    "\n",
    "    # Calculate Spearman correlation\n",
    "    correlation_coefficient, p_value = calculate_spearman_correlation(vector1, vector2)\n",
    "\n",
    "    # Plot scatter plot with control over point size and color\n",
    "    plt.figure(figsize=(10, 6))\n",
    "\n",
    "    # Set a constant color for all points\n",
    "    color = 'blue'\n",
    "    size = 50\n",
    "\n",
    "    # Plot scatter plot\n",
    "    sns.scatterplot(x=vector1, y=vector2, color=color, size=size)\n",
    "\n",
    "    # Add legend with correlation_coefficient\n",
    "    plt.legend([f'Correlation: {correlation_coefficient:.2f}'], loc='upper right')\n",
    "    pdf_title = f'On {x}% of the data Correlation between {my_xlabel} {column_name1} and {column_name2} {my_ylabel} with {my_title}'\n",
    "    # 将字符串中的所有空格替换为下划线\n",
    "    pdf_title_with_underscores = pdf_title.replace(\" \", \"_\")\n",
    "    plt.title(pdf_title)\n",
    "    plt.xlabel(f'{my_xlabel} {column_name1}')\n",
    "    plt.ylabel(f'{column_name2} {my_ylabel}')\n",
    "\n",
    "    # Save plot as PDF if save_path is provided\n",
    "    if save_path:\n",
    "        if not os.path.exists(save_path):\n",
    "            os.makedirs(save_path)\n",
    "        \n",
    "        # Generate a unique filename using uuid\n",
    "        unique_filename = str(uuid.uuid4())\n",
    "        pdf_filepath = os.path.join(save_path, f'{pdf_title_with_underscores}.pdf')\n",
    "\n",
    "        plt.savefig(pdf_filepath, format='pdf')\n",
    "        plt.close()  # 关闭绘图，确保图像文件已保存\n",
    "    else:\n",
    "        plt.show()\n",
    "\n",
    "    return correlation_coefficient, p_value\n",
    "\n",
    "\n",
    "# Example Usage:\n",
    "percenatge = 100\n",
    "file_path1 = './input_data/best_val_acc.xlsx'\n",
    "sheet_name1 = 'Scale'\n",
    "column_name1 = 'ResNet152'\n",
    "\n",
    "file_path2 = './input_data/TDA_data.xlsx'\n",
    "sheet_name2 = sheet_name1\n",
    "column_name2 = ['Data']\n",
    "\n",
    "correlation, p_value = calculate_correlation_and_plot_scatter(file_path1, sheet_name1, column_name1, file_path2, sheet_name2, column_name2, x=percenatge)\n",
    "\n",
    "print(f\"Spearman Correlation Coefficient: {correlation}\")\n",
    "print(f\"P-value: {p_value}\")"
   ]
  },
  {
   "attachments": {},
   "cell_type": "markdown",
   "metadata": {},
   "source": [
    "## 绘制相关性"
   ]
  },
  {
   "attachments": {},
   "cell_type": "markdown",
   "metadata": {},
   "source": [
    "### 绘制BOF和Acc之间的关系"
   ]
  },
  {
   "cell_type": "code",
   "execution_count": 176,
   "metadata": {},
   "outputs": [
    {
     "name": "stdout",
     "output_type": "stream",
     "text": [
      "MLP\n",
      "Spearman Correlation Coefficient: 0.6398593854224782\n",
      "P-value: 1.6868199313592621e-06\n",
      "LeNet\n",
      "Spearman Correlation Coefficient: 0.7214752696588459\n",
      "P-value: 1.5418028701521817e-08\n",
      "ResNet18\n",
      "Spearman Correlation Coefficient: 0.7786000616712919\n",
      "P-value: 1.8885149337629423e-10\n",
      "ResNet34\n",
      "Spearman Correlation Coefficient: 0.6253854705369036\n",
      "P-value: 3.371583926725079e-06\n",
      "ResNet50\n",
      "Spearman Correlation Coefficient: 0.7624275332127417\n",
      "P-value: 7.429272229878632e-10\n",
      "ResNet101\n",
      "Spearman Correlation Coefficient: 0.7385981686573105\n",
      "P-value: 4.644712590167862e-09\n",
      "ResNet152\n",
      "Spearman Correlation Coefficient: 0.71146196339602\n",
      "P-value: 2.9878296642139535e-08\n",
      "MLP\n",
      "Spearman Correlation Coefficient: -0.9135293633874494\n",
      "P-value: 1.9035205535483814e-71\n",
      "LeNet\n",
      "Spearman Correlation Coefficient: -0.9083509781868566\n",
      "P-value: 2.6626746036378277e-69\n",
      "ResNet18\n",
      "Spearman Correlation Coefficient: -0.3851815059804819\n",
      "P-value: 9.335283755542201e-08\n",
      "ResNet34\n",
      "Spearman Correlation Coefficient: -0.2695942246060389\n",
      "P-value: 0.00025242613231336977\n",
      "ResNet50\n",
      "Spearman Correlation Coefficient: -0.19897674414376862\n",
      "P-value: 0.00741108015557448\n",
      "ResNet101\n",
      "Spearman Correlation Coefficient: -0.23898168227450742\n",
      "P-value: 0.0012340802185438354\n",
      "ResNet152\n",
      "Spearman Correlation Coefficient: -0.00963647898452019\n",
      "P-value: 0.8978409744104174\n"
     ]
    }
   ],
   "source": [
    "# Example Usage:\n",
    "percenatge = 100\n",
    "file_path1 = './input_data/best_val_acc.xlsx'\n",
    "sheet_name1 = 'Scale'\n",
    "column_name1 = 'ResNet152'\n",
    "\n",
    "file_path2 = './input_data/BOF_data.xlsx'\n",
    "sheet_name2 = sheet_name1\n",
    "column_name2 = ['r0']\n",
    "\n",
    "sheet_names = ['Scale', 'Angle']\n",
    "column_names = ['MLP', 'LeNet', 'ResNet18', 'ResNet34', 'ResNet50', 'ResNet101', 'ResNet152']\n",
    "for sheet_name1 in sheet_names:\n",
    "    for column_name1 in column_names:\n",
    "        sheet_name2 = sheet_name1\n",
    "        correlation, p_value = calculate_correlation_and_plot_scatter(file_path1, sheet_name1, column_name1, file_path2, sheet_name2, column_name2, x=percenatge, my_title=sheet_name1, save_path='./scatter_diagram/BOF')\n",
    "        print(column_name1)\n",
    "        print(f\"Spearman Correlation Coefficient: {correlation}\")\n",
    "        print(f\"P-value: {p_value}\")"
   ]
  },
  {
   "attachments": {},
   "cell_type": "markdown",
   "metadata": {},
   "source": [
    "### 绘制TDA和Acc之间的关系"
   ]
  },
  {
   "cell_type": "code",
   "execution_count": 177,
   "metadata": {},
   "outputs": [
    {
     "name": "stdout",
     "output_type": "stream",
     "text": [
      "MLP\n",
      "Spearman Correlation Coefficient: 0.7803509208434328\n",
      "P-value: 1.6171596511385909e-10\n",
      "LeNet\n",
      "Spearman Correlation Coefficient: 0.8362526227820389\n",
      "P-value: 4.675038838286368e-13\n",
      "ResNet18\n",
      "Spearman Correlation Coefficient: 0.879740980573543\n",
      "P-value: 8.383378255754172e-16\n",
      "ResNet34\n",
      "Spearman Correlation Coefficient: 0.7613173814898953\n",
      "P-value: 8.12938614129421e-10\n",
      "ResNet50\n",
      "Spearman Correlation Coefficient: 0.8684470227445895\n",
      "P-value: 5.3551124903168435e-15\n",
      "ResNet101\n",
      "Spearman Correlation Coefficient: 0.8591075892949513\n",
      "P-value: 2.1909591288141688e-14\n",
      "ResNet152\n",
      "Spearman Correlation Coefficient: 0.8480064144153323\n",
      "P-value: 1.0312485161095923e-13\n",
      "MLP\n",
      "Spearman Correlation Coefficient: 0.20529239887295175\n",
      "P-value: 0.005699143454576815\n",
      "LeNet\n",
      "Spearman Correlation Coefficient: 0.18283506078594\n",
      "P-value: 0.014024138575263722\n",
      "ResNet18\n",
      "Spearman Correlation Coefficient: 0.1843586552232163\n",
      "P-value: 0.01323164870236103\n",
      "ResNet34\n",
      "Spearman Correlation Coefficient: 0.1925802392076222\n",
      "P-value: 0.00959688557307429\n",
      "ResNet50\n",
      "Spearman Correlation Coefficient: 0.1951796547744903\n",
      "P-value: 0.008647901217915584\n",
      "ResNet101\n",
      "Spearman Correlation Coefficient: 0.1836472426122717\n",
      "P-value: 0.013596663959855029\n",
      "ResNet152\n",
      "Spearman Correlation Coefficient: 0.008535461097340626\n",
      "P-value: 0.9094601540489842\n"
     ]
    }
   ],
   "source": [
    "# 首先考察的Data TDA\n",
    "percenatge = 100\n",
    "file_path1 = './input_data/best_val_acc.xlsx'\n",
    "sheet_name1 = 'Scale'\n",
    "column_name1 = 'ResNet152'\n",
    "\n",
    "file_path2 = './input_data/TDA_data.xlsx'\n",
    "sheet_name2 = sheet_name1\n",
    "column_name2 = ['Data']\n",
    "\n",
    "sheet_names = ['Scale', 'Angle']\n",
    "column_names = ['MLP', 'LeNet', 'ResNet18', 'ResNet34', 'ResNet50', 'ResNet101', 'ResNet152']\n",
    "for sheet_name1 in sheet_names:\n",
    "    for column_name1 in column_names:\n",
    "        sheet_name2 = sheet_name1\n",
    "        correlation, p_value = calculate_correlation_and_plot_scatter(file_path1, sheet_name1, column_name1, file_path2, sheet_name2, column_name2, x=percenatge, my_title=sheet_name1, save_path='./scatter_diagram/TDA')\n",
    "        print(column_name1)\n",
    "        print(f\"Spearman Correlation Coefficient: {correlation}\")\n",
    "        print(f\"P-value: {p_value}\")"
   ]
  },
  {
   "cell_type": "code",
   "execution_count": 178,
   "metadata": {},
   "outputs": [
    {
     "name": "stdout",
     "output_type": "stream",
     "text": [
      "MLP\n",
      "Spearman Correlation Coefficient: -0.45712875129169367\n",
      "P-value: 0.028307791608679373\n",
      "LeNet\n",
      "Spearman Correlation Coefficient: -0.5012358496709346\n",
      "P-value: 0.014829825465986442\n",
      "ResNet18\n",
      "Spearman Correlation Coefficient: 0.18972332015810275\n",
      "P-value: 0.3859122459775909\n",
      "ResNet34\n",
      "Spearman Correlation Coefficient: -0.05388038226245747\n",
      "P-value: 0.8071006184247151\n",
      "ResNet50\n",
      "Spearman Correlation Coefficient: -0.20019775060821351\n",
      "P-value: 0.35972312051695254\n",
      "ResNet101\n",
      "Spearman Correlation Coefficient: -0.010872251382072715\n",
      "P-value: 0.9607320323459436\n",
      "ResNet152\n",
      "Spearman Correlation Coefficient: -0.05683222313356192\n",
      "P-value: 0.796741819492141\n",
      "MLP\n",
      "Spearman Correlation Coefficient: 0.3805266757147787\n",
      "P-value: 0.00021582439155912886\n",
      "LeNet\n",
      "Spearman Correlation Coefficient: 0.3333292175847673\n",
      "P-value: 0.0013256305981730395\n",
      "ResNet18\n",
      "Spearman Correlation Coefficient: 0.13778881056623568\n",
      "P-value: 0.1952877421718252\n",
      "ResNet34\n",
      "Spearman Correlation Coefficient: 0.08041789737246913\n",
      "P-value: 0.4511685327987204\n",
      "ResNet50\n",
      "Spearman Correlation Coefficient: 0.1059352403709032\n",
      "P-value: 0.3203487922597526\n",
      "ResNet101\n",
      "Spearman Correlation Coefficient: 0.1106500706562769\n",
      "P-value: 0.2991595250624241\n",
      "ResNet152\n",
      "Spearman Correlation Coefficient: -0.13246505340317052\n",
      "P-value: 0.21327867094859723\n"
     ]
    }
   ],
   "source": [
    "# 然后考察Model TDA\n",
    "\n",
    "percenatge = 50\n",
    "file_path1 = './input_data/best_val_acc.xlsx'\n",
    "sheet_name1 = 'Scale'\n",
    "column_name1 = 'ResNet152'\n",
    "\n",
    "file_path2 = './input_data/TDA_out_2_all_bars_surviver_time.xlsx'\n",
    "sheet_name2 = sheet_name1\n",
    "column_name2 = ['Data']\n",
    "\n",
    "sheet_names = ['Scale', 'Angle']\n",
    "column_names = ['MLP', 'LeNet', 'ResNet18', 'ResNet34', 'ResNet50', 'ResNet101', 'ResNet152']\n",
    "for sheet_name1 in sheet_names:\n",
    "    for column_name1 in column_names:\n",
    "        sheet_name2 = sheet_name1\n",
    "        column_name2 = column_name1\n",
    "        correlation, p_value = calculate_correlation_and_plot_scatter(file_path1, sheet_name1, column_name1, file_path2, sheet_name2, column_name2, x=percenatge, my_title=sheet_name1, save_path='./scatter_diagram/TDA_model', my_ylabel=' out TDA')\n",
    "        print(column_name1)\n",
    "        print(f\"Spearman Correlation Coefficient: {correlation}\")\n",
    "        print(f\"P-value: {p_value}\")"
   ]
  },
  {
   "attachments": {},
   "cell_type": "markdown",
   "metadata": {},
   "source": [
    "# 得到有用半径"
   ]
  },
  {
   "attachments": {},
   "cell_type": "markdown",
   "metadata": {},
   "source": [
    "## 定义相关函数"
   ]
  },
  {
   "attachments": {},
   "cell_type": "markdown",
   "metadata": {},
   "source": [
    "### 得到目标数据\n",
    "\n",
    "我需要一个函数，这个函数的输入可以是一个list，一个numpy向量，df的一列数据等，总之它表示了一些数据。这个函数可以根据我的选择，也就是传入的两个参数，返回这串数据的全局最大值、全局最小值、局部最大值、局部最小值中的某一个；如果局部最大或者局部最小值不止一个，就需要返回第一个值。而且返回的不仅仅是这个值，也要返回这个value对应的index"
   ]
  },
  {
   "cell_type": "code",
   "execution_count": 340,
   "metadata": {},
   "outputs": [
    {
     "name": "stdout",
     "output_type": "stream",
     "text": [
      "Global Max: 9, Index: 0.8\n",
      "Local Max: 7, Index: 0.2\n",
      "Global Min: 1, Index: 0.0\n",
      "Local Min: 1, Index: 0.3\n",
      "   col1  col2  col3\n",
      "0   1.0   1.0   1.0\n",
      "1   0.0   0.4   0.5\n"
     ]
    }
   ],
   "source": [
    "import numpy as np\n",
    "import pandas as pd\n",
    "\n",
    "def find_extrema(data, extrema_type):\n",
    "    \"\"\"\n",
    "    寻找数据的极值。\n",
    "\n",
    "    参数:\n",
    "    - data: 输入数据，可以是列表、NumPy数组或Pandas DataFrame的列。\n",
    "    - extrema_type: 极值类型，可以是 'global_max'、'global_min'、'local_max' 或 'local_min'。\n",
    "\n",
    "    返回:\n",
    "    - tuple: 包含找到的极值和其对应的归一化索引。如果是局部最大或局部最小，只返回第一个。\n",
    "    \"\"\"\n",
    "\n",
    "    if isinstance(data, list):\n",
    "        data = np.array(data)\n",
    "    elif isinstance(data, pd.Series):\n",
    "        data = data.values\n",
    "\n",
    "    if extrema_type == 'global_max':\n",
    "        global_max_index = np.argmax(data)\n",
    "        normalized_index = round(global_max_index / len(data), 4)\n",
    "        return data[global_max_index], normalized_index\n",
    "    elif extrema_type == 'global_min':\n",
    "        global_min_index = np.argmin(data)\n",
    "        normalized_index = round(global_min_index / len(data), 4)\n",
    "        return data[global_min_index], normalized_index\n",
    "    elif extrema_type == 'local_max':\n",
    "        local_max_indices = np.where((data[1:-1] > data[:-2]) & (data[1:-1] > data[2:]))[0]\n",
    "        if len(local_max_indices) > 0:\n",
    "            normalized_index = round((local_max_indices[0] + 1) / len(data), 4)\n",
    "            return data[local_max_indices[0] + 1], normalized_index\n",
    "        else:\n",
    "            return None\n",
    "    elif extrema_type == 'local_min':\n",
    "        local_min_indices = np.where((data[1:-1] < data[:-2]) & (data[1:-1] < data[2:]))[0]\n",
    "        if len(local_min_indices) > 0:\n",
    "            normalized_index = round((local_min_indices[0] + 1) / len(data), 4)\n",
    "            return data[local_min_indices[0] + 1], normalized_index\n",
    "        else:\n",
    "            return None\n",
    "    else:\n",
    "        raise ValueError(\"Invalid extrema_type. Choose from 'global_max', 'global_min', 'local_max', 'local_min'.\")\n",
    "\n",
    "# ---------测试函数---------------\n",
    "# 例子\n",
    "data_list = [1, 3, 7, 1, 2, 6, 8, 4, 9, 2]\n",
    "data_array = np.array(data_list)\n",
    "data_df = pd.DataFrame({'column_name': data_list})\n",
    "\n",
    "global_max, global_max_index = find_extrema(data_list, 'global_max')\n",
    "print(f\"Global Max: {global_max}, Index: {global_max_index}\")\n",
    "\n",
    "local_max, local_max_index = find_extrema(data_list, 'local_max')\n",
    "print(f\"Local Max: {local_max}, Index: {local_max_index}\")\n",
    "\n",
    "# 对于其他数据类型，也可以使用\n",
    "global_min, global_min_index = find_extrema(data_array, 'global_min')\n",
    "print(f\"Global Min: {global_min}, Index: {global_min_index}\")\n",
    "\n",
    "local_min, local_min_index = find_extrema(data_df['column_name'], 'local_min')\n",
    "print(f\"Local Min: {local_min}, Index: {local_min_index}\")\n",
    "\n",
    "# 创建一个示例 DataFrame\n",
    "data = {\n",
    "    'col1': [1, 3, 7, 1, 2, 6, 8, 4, 9, 2],\n",
    "    'col2': [5, 3, 2, 8, 1, 7, 6, 9, 4, 2],\n",
    "    'col3': [9, 2, 6, 4, 8, 1, 5, 7, 3, 2]\n",
    "}\n",
    "\n",
    "df = pd.DataFrame(data)\n",
    "\n",
    "# 对每一列应用 find_extrema 函数\n",
    "result = df.apply(lambda column: find_extrema(column, 'global_min'))\n",
    "\n",
    "# 打印结果\n",
    "print(result)\n"
   ]
  },
  {
   "attachments": {},
   "cell_type": "markdown",
   "metadata": {},
   "source": [
    "### 得到某种数据的极值"
   ]
  },
  {
   "cell_type": "code",
   "execution_count": 215,
   "metadata": {},
   "outputs": [
    {
     "name": "stdout",
     "output_type": "stream",
     "text": [
      "{'Sheet1': {'Unnamed: 0': [0.2857], 'LeNet': [0.4286], 'MLP': [0.4286], 'ResNet18': [0.4286], 'ResNet34': [0.4286], 'ResNet50': [0.4286], 'ResNet101': [0.4286], 'ResNet152': [0.4286]}}\n"
     ]
    }
   ],
   "source": [
    "import pandas as pd\n",
    "\n",
    "import pandas as pd\n",
    "\n",
    "def process_extreme_value(file_path, extreme_type='global_max'):\n",
    "    \"\"\"\n",
    "    Process extreme values in each sheet of an Excel file.\n",
    "\n",
    "    Parameters:\n",
    "    - file_path (str): Path to the Excel file.\n",
    "    - extreme_type (str): Type of extreme value to extract. Default is 'global_max'.\n",
    "    - extrema_type: 极值类型，可以是 'global_max'、'global_min'、'local_max' 或 'local_min'\n",
    "\n",
    "    Returns:\n",
    "    - dict: A dictionary containing extreme values for each sheet.\n",
    "            The keys are sheet names, and the values are dictionaries with columns and their extreme values as lists.\n",
    "    \"\"\"\n",
    "\n",
    "    # Read Excel file\n",
    "    dfs = pd.read_excel(file_path, sheet_name=None)\n",
    "\n",
    "    # Initialize result dictionary\n",
    "    save_dic = {}\n",
    "\n",
    "    # Process each DataFrame\n",
    "    for sheet_name, df in dfs.items():\n",
    "        # Apply find_extrema function to each column\n",
    "        result = df.apply(lambda column: find_extrema(column, extreme_type))\n",
    "        result_dict = result.iloc[1].to_dict()\n",
    "\n",
    "        # Convert dictionary values to lists\n",
    "        result_dict_as_list = {key: [value] for key, value in result_dict.items()}\n",
    "        save_dic[sheet_name] = result_dict_as_list\n",
    "\n",
    "    return save_dic\n",
    "# 调用函数\n",
    "TDA_data_file_path = \"./input_data/TDA_data.xlsx\"\n",
    "TDA_data_save_dic = process_extreme_value(file_path)\n",
    "print(TDA_data_save_dic)\n"
   ]
  },
  {
   "attachments": {},
   "cell_type": "markdown",
   "metadata": {},
   "source": [
    "### 得到邻域"
   ]
  },
  {
   "cell_type": "code",
   "execution_count": 343,
   "metadata": {},
   "outputs": [
    {
     "name": "stdout",
     "output_type": "stream",
     "text": [
      "              LeNet          MLP     ResNet18     ResNet34     ResNet50  \\\n",
      "r0      [0.0, 32.0]  [0.0, 17.0]  [0.0, 22.0]  [0.0, 17.0]  [0.0, 19.5]   \n",
      "rk_max  [0.5, 27.5]  [3.5, 12.5]  [2.5, 17.5]  [3.5, 12.5]  [3.0, 15.0]   \n",
      "\n",
      "          ResNet101    ResNet152  \n",
      "r0      [0.0, 32.0]  [0.0, 22.0]  \n",
      "rk_max  [0.5, 27.5]  [2.5, 17.5]  \n"
     ]
    }
   ],
   "source": [
    "import pandas as pd\n",
    "\n",
    "def calculate_radius_min(df_data, df_r_values, ratio=1.5):\n",
    "    # 初始化结果的DataFrame\n",
    "    result_df = pd.DataFrame(index=df_r_values.columns, columns=df_data.columns)\n",
    "\n",
    "    for i in df_data.columns:\n",
    "        for j in df_r_values.columns:\n",
    "            r_value = df_r_values[j].iloc[0]\n",
    "            center_index = df_data[i].iloc[0]\n",
    "            r = abs(r_value - center_index) * ratio\n",
    "            min_index = round(max(0, center_index - r), 4)\n",
    "            max_index = round(center_index + r, 4)\n",
    "            result_df[f'{i}'][f'{j}'] = np.array([min_index, max_index])\n",
    "\n",
    "    return result_df\n",
    "\n",
    "\n",
    "# 示例数据\n",
    "data1 = {'LeNet': [14.0], 'MLP': [8.0], 'ResNet18': [10.0], 'ResNet34': [8.0], 'ResNet50': [9.0], 'ResNet101': [14.0], 'ResNet152': [10.0]}\n",
    "\n",
    "data2 = {\n",
    "    'r0': [2.0],\n",
    "    'rk_max': [5.0]\n",
    "}\n",
    "\n",
    "df_data = pd.DataFrame(data1)\n",
    "df_r_values = pd.DataFrame(data2)\n",
    "\n",
    "# 调用函数\n",
    "result_df = calculate_radius_min(df_data, df_r_values)\n",
    "print(result_df)\n"
   ]
  },
  {
   "attachments": {},
   "cell_type": "markdown",
   "metadata": {},
   "source": [
    "## 模型表现情况"
   ]
  },
  {
   "cell_type": "code",
   "execution_count": 344,
   "metadata": {},
   "outputs": [
    {
     "name": "stdout",
     "output_type": "stream",
     "text": [
      "{'Scale': {'LeNet': [0.3043], 'MLP': [0.1739], 'ResNet18': [0.2174], 'ResNet34': [0.1739], 'ResNet50': [0.1957], 'ResNet101': [0.3043], 'ResNet152': [0.2174]}, 'Angle': {'LeNet': [0.0889], 'MLP': [0.1778], 'ResNet18': [0.1444], 'ResNet34': [0.2389], 'ResNet50': [0.1167], 'ResNet101': [0.3889], 'ResNet152': [0.5444]}}\n"
     ]
    }
   ],
   "source": [
    "Acc_file_path = \"./input_data/best_val_acc.xlsx\"\n",
    "Acc_save_dic = process_extreme_value(Acc_file_path)\n",
    "print(Acc_save_dic)"
   ]
  },
  {
   "attachments": {},
   "cell_type": "markdown",
   "metadata": {},
   "source": [
    "## BOF的表现情况"
   ]
  },
  {
   "cell_type": "code",
   "execution_count": 345,
   "metadata": {},
   "outputs": [
    {
     "name": "stdout",
     "output_type": "stream",
     "text": [
      "{'Scale': {'r0': [0.0435], 'R0': [0.0435], 'rk_max_index': [0.0652], 'rk_max': [0.1087], 'Rk_max': [0.1087]}, 'Angle': {'r0': [0.2889], 'R0': [0.4167], 'rk_max_index': [0.0222], 'rk_max': [0.3056], 'Rk_max': [0.0333]}}\n"
     ]
    }
   ],
   "source": [
    "BOF_file_path = \"./input_data/BOF_data.xlsx\"\n",
    "BOF_save_dic = process_extreme_value(BOF_file_path, extreme_type='local_min')\n",
    "print(BOF_save_dic)"
   ]
  },
  {
   "attachments": {},
   "cell_type": "markdown",
   "metadata": {},
   "source": [
    "## TDA的表现"
   ]
  },
  {
   "attachments": {},
   "cell_type": "markdown",
   "metadata": {},
   "source": [
    "### Data TDA"
   ]
  },
  {
   "cell_type": "code",
   "execution_count": 346,
   "metadata": {},
   "outputs": [
    {
     "name": "stdout",
     "output_type": "stream",
     "text": [
      "{'Scale': {'Data': [0.0435]}, 'Angle': {'Data': [0.0389]}}\n"
     ]
    }
   ],
   "source": [
    "# 调用函数\n",
    "TDA_data_file_path = \"./input_data/TDA_data.xlsx\"\n",
    "TDA_data_save_dic = process_extreme_value(TDA_data_file_path, extreme_type='local_max')\n",
    "print(TDA_data_save_dic)\n"
   ]
  },
  {
   "attachments": {},
   "cell_type": "markdown",
   "metadata": {},
   "source": [
    "### Model TDA"
   ]
  },
  {
   "cell_type": "code",
   "execution_count": 347,
   "metadata": {},
   "outputs": [
    {
     "name": "stdout",
     "output_type": "stream",
     "text": [
      "{'Scale': {'LeNet': [0.0652], 'MLP': [0.087], 'ResNet18': [0.1087], 'ResNet34': [0.0652], 'ResNet50': [0.0435], 'ResNet101': [0.0217], 'ResNet152': [0.1087]}, 'Angle': {'LeNet': [0.0444], 'MLP': [0.0167], 'ResNet18': [0.0167], 'ResNet34': [0.0278], 'ResNet50': [0.0167], 'ResNet101': [0.0167], 'ResNet152': [0.1222]}}\n"
     ]
    }
   ],
   "source": [
    "Model_TDA_file_path = \"./input_data/TDA_out_2_all_bars_surviver_time.xlsx\"\n",
    "Model_TDA_save_dic = process_extreme_value(Model_TDA_file_path, extreme_type='local_max')\n",
    "print(Model_TDA_save_dic)\n"
   ]
  },
  {
   "attachments": {},
   "cell_type": "markdown",
   "metadata": {},
   "source": [
    "## 得到邻域"
   ]
  },
  {
   "cell_type": "code",
   "execution_count": 348,
   "metadata": {},
   "outputs": [
    {
     "name": "stdout",
     "output_type": "stream",
     "text": [
      "Scale $$$$$$$$$$$$$$$$$$$$ \n",
      "\n",
      "                         LeNet               MLP          ResNet18  \\\n",
      "r0               [0.0, 0.6955]     [0.0, 0.3695]     [0.0, 0.4783]   \n",
      "R0               [0.0, 0.6955]     [0.0, 0.3695]     [0.0, 0.4783]   \n",
      "rk_max_index      [0.0, 0.663]  [0.0108, 0.3369]     [0.0, 0.4457]   \n",
      "rk_max        [0.0109, 0.5977]  [0.0761, 0.2717]  [0.0544, 0.3804]   \n",
      "Rk_max        [0.0109, 0.5977]  [0.0761, 0.2717]  [0.0544, 0.3804]   \n",
      "Data             [0.0, 0.6955]     [0.0, 0.3695]     [0.0, 0.4783]   \n",
      "Model_TDA         [0.0, 0.663]  [0.0435, 0.3042]  [0.0544, 0.3804]   \n",
      "\n",
      "                      ResNet34          ResNet50         ResNet101  \\\n",
      "r0               [0.0, 0.3695]      [0.0, 0.424]     [0.0, 0.6955]   \n",
      "R0               [0.0, 0.3695]      [0.0, 0.424]     [0.0, 0.6955]   \n",
      "rk_max_index  [0.0108, 0.3369]     [0.0, 0.3914]      [0.0, 0.663]   \n",
      "rk_max        [0.0761, 0.2717]  [0.0652, 0.3262]  [0.0109, 0.5977]   \n",
      "Rk_max        [0.0761, 0.2717]  [0.0652, 0.3262]  [0.0109, 0.5977]   \n",
      "Data             [0.0, 0.3695]      [0.0, 0.424]     [0.0, 0.6955]   \n",
      "Model_TDA     [0.0108, 0.3369]      [0.0, 0.424]     [0.0, 0.7282]   \n",
      "\n",
      "                     ResNet152  \n",
      "r0               [0.0, 0.4783]  \n",
      "R0               [0.0, 0.4783]  \n",
      "rk_max_index     [0.0, 0.4457]  \n",
      "rk_max        [0.0544, 0.3804]  \n",
      "Rk_max        [0.0544, 0.3804]  \n",
      "Data             [0.0, 0.4783]  \n",
      "Model_TDA     [0.0544, 0.3804]  \n",
      "Angle $$$$$$$$$$$$$$$$$$$$ \n",
      "\n",
      "                         LeNet               MLP          ResNet18  \\\n",
      "r0            [0.2812, 0.3274]  [0.0014, 0.3464]  [0.1102, 0.3246]   \n",
      "R0            [0.1357, 0.4729]     [0.0, 0.5381]     [0.0, 0.5164]   \n",
      "rk_max_index     [0.0, 0.7274]     [0.0, 0.4014]     [0.0, 0.5102]   \n",
      "rk_max        [0.3024, 0.3062]     [0.0, 0.3714]  [0.0851, 0.3497]   \n",
      "Rk_max           [0.0, 0.7108]     [0.0, 0.3848]     [0.0, 0.4936]   \n",
      "Data             [0.0, 0.7024]     [0.0, 0.3764]     [0.0, 0.4852]   \n",
      "Model_TDA        [0.0, 0.6942]     [0.0, 0.4097]     [0.0, 0.5185]   \n",
      "\n",
      "                      ResNet34          ResNet50         ResNet101  \\\n",
      "r0            [0.0014, 0.3464]  [0.0559, 0.3355]  [0.2812, 0.3274]   \n",
      "R0               [0.0, 0.5381]     [0.0, 0.5272]  [0.1357, 0.4729]   \n",
      "rk_max_index     [0.0, 0.4014]      [0.0, 0.456]     [0.0, 0.7274]   \n",
      "rk_max           [0.0, 0.3714]  [0.0309, 0.3605]  [0.3024, 0.3062]   \n",
      "Rk_max           [0.0, 0.3848]     [0.0, 0.4393]     [0.0, 0.7108]   \n",
      "Data             [0.0, 0.3764]     [0.0, 0.4309]     [0.0, 0.7024]   \n",
      "Model_TDA         [0.0, 0.393]     [0.0, 0.4642]     [0.0, 0.7357]   \n",
      "\n",
      "                     ResNet152  \n",
      "r0            [0.1102, 0.3246]  \n",
      "R0               [0.0, 0.5164]  \n",
      "rk_max_index     [0.0, 0.5102]  \n",
      "rk_max        [0.0851, 0.3497]  \n",
      "Rk_max           [0.0, 0.4936]  \n",
      "Data             [0.0, 0.4852]  \n",
      "Model_TDA     [0.0746, 0.3602]  \n"
     ]
    }
   ],
   "source": [
    "import os\n",
    "\n",
    "# 指定保存文件夹的路径\n",
    "output_folder = \"./neighbourhood/CIFAR10\"\n",
    "\n",
    "# 如果文件夹不存在，创建文件夹\n",
    "os.makedirs(output_folder, exist_ok=True)\n",
    "\n",
    "aug_name_list = ['Scale', 'Angle']\n",
    "dic_list = [BOF_save_dic, TDA_data_save_dic, Model_TDA_save_dic]\n",
    "dic_name_list = ['BOF', 'TDA Data', 'TDA Model']\n",
    "\n",
    "for j, aug_name in enumerate(aug_name_list):\n",
    "    print(f'{aug_name}', '$'*20, '\\n')\n",
    "    concatenated_dfs = []\n",
    "\n",
    "    for i, dic in enumerate(dic_list):\n",
    "        # print('=' * 20)\n",
    "        # print(dic_name_list[i], aug_name)\n",
    "\n",
    "        df_data = pd.DataFrame(Acc_save_dic['Scale'])\n",
    "        df_r_values = pd.DataFrame(dic[f'{aug_name}'])\n",
    "\n",
    "        # 调用函数\n",
    "        result_df = calculate_radius_min(df_data, df_r_values)\n",
    "\n",
    "        # 添加检查和仅显示对角线的逻辑\n",
    "        if result_df.index.equals(result_df.columns):\n",
    "            diagonal_values = result_df.values[np.eye(len(result_df), dtype=bool)]\n",
    "            diagonal_df = pd.DataFrame([diagonal_values], columns=result_df.columns, index=[\"Model_TDA\"])\n",
    "            concatenated_dfs.append(diagonal_df)\n",
    "        else:\n",
    "            concatenated_dfs.append(result_df)\n",
    "    \n",
    "    # 使用pd.concat沿着轴0拼接所有DataFrame\n",
    "    final_df = pd.concat(concatenated_dfs, axis=0)\n",
    "    \n",
    "    # 保存为Excel文件，文件名和aug_name保持一致\n",
    "    excel_filename = f\"{aug_name}_output.xlsx\"\n",
    "    output_path = os.path.join(output_folder, excel_filename)\n",
    "    final_df.to_excel(output_path, index=True)\n",
    "\n",
    "    print(final_df)\n",
    "\n"
   ]
  },
  {
   "attachments": {},
   "cell_type": "markdown",
   "metadata": {},
   "source": [
    "# 研究局部的相关性"
   ]
  },
  {
   "attachments": {},
   "cell_type": "markdown",
   "metadata": {},
   "source": [
    "## 定义并测试相关的函数"
   ]
  },
  {
   "attachments": {},
   "cell_type": "markdown",
   "metadata": {},
   "source": [
    "### 分步得到基本功能"
   ]
  },
  {
   "cell_type": "code",
   "execution_count": 349,
   "metadata": {},
   "outputs": [
    {
     "name": "stdout",
     "output_type": "stream",
     "text": [
      "[0.     0.6955]\n",
      "<class 'numpy.float64'>\n"
     ]
    }
   ],
   "source": [
    "# 加载数据\n",
    "# 首先加载的是控制数据\n",
    "# 需要一个函数，这个函数会加载2个excel文件，一个是注释了研究范围的excel文件，另一个是需要研究的数据的文件，然后返回的是一个字典。字典里面有7个元素对应7个不同的模型，每一个元素都是一个list，表示需要关注的那些数值。\n",
    "\n",
    "import pandas as pd\n",
    "\n",
    "def get_control_data(file_path, column_title, row_title, sheet_name=None):\n",
    "    try:\n",
    "        # 读取Excel文件，将第一列作为行索引\n",
    "        if sheet_name is None:\n",
    "            # 如果未指定 sheet_name，默认使用第一个 sheet\n",
    "            df = pd.read_excel(file_path, index_col=0)\n",
    "        else:\n",
    "            # 如果指定了 sheet_name，则使用指定的 sheet\n",
    "            df = pd.read_excel(file_path, index_col=0, sheet_name=sheet_name)\n",
    "\n",
    "        # 获取指定列和行的数据\n",
    "        data = df.loc[row_title, column_title]\n",
    "\n",
    "        # 去除括号并按空格分割字符串\n",
    "        values = data.strip('[]').split()\n",
    "\n",
    "        # 将字符串列表转化为浮点数\n",
    "        numpy_vector = np.array([float(value) for value in values])\n",
    "\n",
    "        return numpy_vector\n",
    "    except Exception as e:\n",
    "        return f\"get_control_data 发生错误：{str(e)}\"\n",
    "\n",
    "# 使用示例\n",
    "file_path = './neighbourhood/CIFAR10/Scale_output.xlsx'\n",
    "column_title = 'LeNet'\n",
    "row_title = 'r0'\n",
    "\n",
    "result = get_control_data(file_path, column_title, row_title)\n",
    "print(result)\n",
    "print(type(result[0]))\n"
   ]
  },
  {
   "cell_type": "code",
   "execution_count": 350,
   "metadata": {},
   "outputs": [
    {
     "name": "stdout",
     "output_type": "stream",
     "text": [
      "0     0.6314\n",
      "1     0.6725\n",
      "2     0.6970\n",
      "3     0.6836\n",
      "4     0.7065\n",
      "5     0.7161\n",
      "6     0.7228\n",
      "7     0.7260\n",
      "8     0.7220\n",
      "9     0.7312\n",
      "10    0.7190\n",
      "11    0.7246\n",
      "12    0.7246\n",
      "13    0.7250\n",
      "14    0.7313\n",
      "15    0.7271\n",
      "16    0.7294\n",
      "17    0.7165\n",
      "18    0.7188\n",
      "19    0.7157\n",
      "20    0.7135\n",
      "21    0.6958\n",
      "22    0.6958\n",
      "23    0.6966\n",
      "24    0.6766\n",
      "25    0.6831\n",
      "26    0.6705\n",
      "27    0.6619\n",
      "28    0.6547\n",
      "29    0.6524\n",
      "30    0.6446\n",
      "31    0.6367\n",
      "Name: LeNet, dtype: float64\n",
      "0     764.291504\n",
      "1     728.243225\n",
      "2     727.732422\n",
      "3     727.949341\n",
      "4     714.835266\n",
      "5     713.442566\n",
      "6     746.007263\n",
      "7     719.343811\n",
      "8     714.525818\n",
      "9     711.118164\n",
      "10    725.121216\n",
      "11    720.786072\n",
      "12    705.812073\n",
      "13    718.479797\n",
      "14    705.917114\n",
      "15    700.670898\n",
      "16    707.571228\n",
      "17    721.567200\n",
      "18    720.772888\n",
      "19    710.991577\n",
      "20    720.626282\n",
      "21    707.069641\n",
      "22    712.513794\n",
      "23    707.874756\n",
      "24    709.805115\n",
      "25    718.367798\n",
      "26    709.738647\n",
      "27    704.520081\n",
      "28    687.243164\n",
      "29    693.169312\n",
      "30    699.028809\n",
      "31    696.930969\n",
      "Name: LeNet, dtype: float64\n"
     ]
    }
   ],
   "source": [
    "# 然后加载被控制数据\n",
    "import pandas as pd\n",
    "import numpy as np\n",
    "\n",
    "def adjust_range(value):\n",
    "    # 将 value 向上向下取整\n",
    "    return int(np.floor(value)), int(np.ceil(value))\n",
    "\n",
    "def get_correlated_data(file_path, focus_column, column_range, sheet_name=None):\n",
    "    try:\n",
    "        # 读取Excel文件\n",
    "        if sheet_name is None:\n",
    "            # 如果未指定 sheet_name，默认使用第一个 sheet\n",
    "            df = pd.read_excel(file_path)\n",
    "        else:\n",
    "            # 如果指定了 sheet_name，则使用指定的 sheet\n",
    "            df = pd.read_excel(file_path, sheet_name=sheet_name)\n",
    "\n",
    "        # 获取指定列的索引\n",
    "        column_index = df.columns.get_loc(focus_column)\n",
    "\n",
    "        # 获取指定列的长度\n",
    "        column_length = len(df.iloc[:, column_index])\n",
    "\n",
    "        # 确定列的范围\n",
    "        start_col, end_col = adjust_range(column_length * float(column_range[0]))[0], adjust_range(column_length * float(column_range[1]))[1]\n",
    "\n",
    "        # 截取 DataFrame 的指定范围的指定列\n",
    "        result_series = df.iloc[start_col:end_col, column_index]\n",
    "\n",
    "        return result_series\n",
    "    except Exception as e:\n",
    "        return f\"get_correlated_data 发生错误：{str(e)}\"\n",
    "\n",
    "# 使用示例\n",
    "    \n",
    "file_path = './neighbourhood/CIFAR10/Scale_output.xlsx'\n",
    "# 得到准确率的关心的数据\n",
    "acc_file_path = './input_data/best_val_acc.xlsx'\n",
    "# 得到R0的关心的数据\n",
    "bof_file_path = './input_data/TDA_out_2_all_bars_surviver_time.xlsx'\n",
    "focus_model = 'LeNet'\n",
    "focus_feature = 'LeNet'\n",
    "\n",
    "care_aug_range = get_control_data(file_path, column_title, row_title)\n",
    "care_acc = get_correlated_data(acc_file_path, focus_model, care_aug_range)\n",
    "print(care_acc)\n",
    "care_R0 = get_correlated_data(bof_file_path, focus_feature, care_aug_range, sheet_name='Scale')\n",
    "print(care_R0)\n"
   ]
  },
  {
   "cell_type": "code",
   "execution_count": 351,
   "metadata": {},
   "outputs": [
    {
     "name": "stdout",
     "output_type": "stream",
     "text": [
      "Spearman Correlation Coefficient: 0.16296975525896418\n",
      "P-value: 0.3728237415230654\n",
      "Dictionary saving the correlation:{'LeNet': {'LeNet': 0.16296975525896418}}\n"
     ]
    }
   ],
   "source": [
    "# 计算相关度\n",
    "correlation, p_value = calculate_spearman_correlation(care_R0, care_acc)\n",
    "\n",
    "print(f\"Spearman Correlation Coefficient: {correlation}\")\n",
    "print(f\"P-value: {p_value}\")\n",
    "save_correlation_dict = {}\n",
    "save_correlation_dict[f'{focus_model}'] = {}\n",
    "save_correlation_dict[f'{focus_model}'][f'{focus_feature}'] = correlation\n",
    "print('Dictionary saving the correlation:{}'.format(save_correlation_dict))"
   ]
  },
  {
   "cell_type": "code",
   "execution_count": 352,
   "metadata": {},
   "outputs": [
    {
     "name": "stdout",
     "output_type": "stream",
     "text": [
      "0     0.6314\n",
      "1     0.6725\n",
      "2     0.6970\n",
      "3     0.6836\n",
      "4     0.7065\n",
      "5     0.7161\n",
      "6     0.7228\n",
      "7     0.7260\n",
      "8     0.7220\n",
      "9     0.7312\n",
      "10    0.7190\n",
      "11    0.7246\n",
      "12    0.7246\n",
      "13    0.7250\n",
      "14    0.7313\n",
      "15    0.7271\n",
      "16    0.7294\n",
      "17    0.7165\n",
      "18    0.7188\n",
      "19    0.7157\n",
      "20    0.7135\n",
      "21    0.6958\n",
      "22    0.6958\n",
      "23    0.6966\n",
      "24    0.6766\n",
      "25    0.6831\n",
      "26    0.6705\n",
      "27    0.6619\n",
      "28    0.6547\n",
      "29    0.6524\n",
      "30    0.6446\n",
      "31    0.6367\n",
      "Name: LeNet, dtype: float64\n",
      "0     764.291504\n",
      "1     728.243225\n",
      "2     727.732422\n",
      "3     727.949341\n",
      "4     714.835266\n",
      "5     713.442566\n",
      "6     746.007263\n",
      "7     719.343811\n",
      "8     714.525818\n",
      "9     711.118164\n",
      "10    725.121216\n",
      "11    720.786072\n",
      "12    705.812073\n",
      "13    718.479797\n",
      "14    705.917114\n",
      "15    700.670898\n",
      "16    707.571228\n",
      "17    721.567200\n",
      "18    720.772888\n",
      "19    710.991577\n",
      "20    720.626282\n",
      "21    707.069641\n",
      "22    712.513794\n",
      "23    707.874756\n",
      "24    709.805115\n",
      "25    718.367798\n",
      "26    709.738647\n",
      "27    704.520081\n",
      "28    687.243164\n",
      "29    693.169312\n",
      "30    699.028809\n",
      "31    696.930969\n",
      "Name: LeNet, dtype: float64\n",
      "Dictionary saving the correlation:{'LeNet': {'LeNet': 0.16296975525896418}}\n"
     ]
    }
   ],
   "source": [
    "# 使用一个函数整合上面的功能\n",
    "file_path = './neighbourhood/CIFAR10/Scale_output.xlsx'\n",
    "# 得到准确率的关心的数据\n",
    "acc_file_path = './input_data/best_val_acc.xlsx'\n",
    "# 得到R0的关心的数据\n",
    "bof_file_path = './input_data/TDA_out_2_all_bars_surviver_time.xlsx'\n",
    "focus_model = 'LeNet'\n",
    "focus_feature = 'LeNet'\n",
    "\n",
    "care_aug_range = get_control_data(file_path, column_title, row_title)\n",
    "care_acc = get_correlated_data(acc_file_path, focus_model, care_aug_range)\n",
    "print(care_acc)\n",
    "care_R0 = get_correlated_data(bof_file_path, focus_feature, care_aug_range, sheet_name='Scale')\n",
    "print(care_R0)\n",
    "\n",
    "\n",
    "# 计算相关度\n",
    "correlation, p_value = calculate_spearman_correlation(care_R0, care_acc)\n",
    "save_correlation_dict = {}\n",
    "save_correlation_dict[f'{focus_model}'] = {}\n",
    "save_correlation_dict[f'{focus_model}'][f'{focus_feature}'] = correlation\n",
    "print('Dictionary saving the correlation:{}'.format(save_correlation_dict))"
   ]
  },
  {
   "attachments": {},
   "cell_type": "markdown",
   "metadata": {},
   "source": [
    "### 得到一个完善的功能函数"
   ]
  },
  {
   "cell_type": "code",
   "execution_count": 353,
   "metadata": {},
   "outputs": [
    {
     "name": "stdout",
     "output_type": "stream",
     "text": [
      "Dictionary saving the correlation:\n",
      "                MLP     LeNet  ResNet18  ResNet34  ResNet50  ResNet101  \\\n",
      "Model_TDA -0.86014  0.093769  0.247059 -0.400294 -0.212942   0.412102   \n",
      "\n",
      "           ResNet152  \n",
      "Model_TDA   0.425313  \n"
     ]
    }
   ],
   "source": [
    "def get_correlation_dict(control_file_path, acc_file_path, feature_file_path, focus_models, focus_features, sheet_name):\n",
    "    save_correlation_dict = {}\n",
    "    \n",
    "\n",
    "    for focus_model in focus_models:\n",
    "        for focus_feature in focus_features:\n",
    "            # 这里计算 care_aug_range\n",
    "            # print(focus_model, focus_feature)\n",
    "            if focus_features == focus_models:\n",
    "                result = get_control_data(control_file_path, focus_model, 'Model_TDA')\n",
    "            else:\n",
    "                result = get_control_data(control_file_path, focus_model, focus_feature)\n",
    "            care_aug_range = result\n",
    "            # print(care_aug_range)\n",
    "            care_acc = get_correlated_data(acc_file_path, focus_model, care_aug_range, sheet_name=sheet_name)\n",
    "            care_feature = get_correlated_data(feature_file_path, focus_feature, care_aug_range, sheet_name=sheet_name)\n",
    "            # print(care_acc)\n",
    "            # print(care_feature)\n",
    "            correlation, p_value = calculate_spearman_correlation(care_feature, care_acc)\n",
    "\n",
    "            if focus_model not in save_correlation_dict:\n",
    "                save_correlation_dict[focus_model] = {}\n",
    "\n",
    "            save_correlation_dict[focus_model][focus_feature] = correlation\n",
    "    # 转化为 DataFrame\n",
    "    result_df = pd.DataFrame.from_dict(save_correlation_dict)\n",
    "    # 添加检查和仅显示对角线的逻辑\n",
    "    if result_df.index.equals(result_df.columns):\n",
    "        diagonal_values = result_df.values[np.eye(len(result_df), dtype=bool)]\n",
    "        diagonal_df = pd.DataFrame([diagonal_values], columns=result_df.columns, index=[\"Model_TDA\"])\n",
    "        result_df = diagonal_df\n",
    "    else:\n",
    "        result_df = result_df\n",
    "    \n",
    "\n",
    "    return result_df\n",
    "\n",
    "# 使用示例\n",
    "control_file_path = './neighbourhood/CIFAR10/Scale_output.xlsx'\n",
    "acc_file_path = './input_data/best_val_acc.xlsx'\n",
    "tda_model_file_path = './input_data/TDA_out_2_all_bars_surviver_time.xlsx'\n",
    "focus_models = ['MLP', 'LeNet', 'ResNet18', 'ResNet34', 'ResNet50', 'ResNet101', 'ResNet152']\n",
    "focus_features =  ['MLP', 'LeNet', 'ResNet18', 'ResNet34', 'ResNet50', 'ResNet101', 'ResNet152']\n",
    "\n",
    "TDA_Scale_result = get_correlation_dict(control_file_path, acc_file_path, tda_model_file_path, focus_models, focus_features, sheet_name='Scale')\n",
    "print('Dictionary saving the correlation:\\n', TDA_Scale_result)"
   ]
  },
  {
   "attachments": {},
   "cell_type": "markdown",
   "metadata": {},
   "source": [
    "### 绘制结果"
   ]
  },
  {
   "cell_type": "code",
   "execution_count": 376,
   "metadata": {},
   "outputs": [
    {
     "name": "stdout",
     "output_type": "stream",
     "text": [
      "             MLP     LeNet  ResNet18  ResNet34  ResNet50  ResNet101  ResNet152\n",
      "r0      0.485294  0.172136  0.347826  0.183936  0.513168   0.223078   0.183840\n",
      "rk_max  0.563636 -0.451684  0.352941  0.030303  0.312776  -0.409744   0.217807\n",
      "R0      0.455882  0.493492  0.368577  0.129982  0.495109   0.540189   0.207561\n",
      "Rk_max  0.066667 -0.612647  0.005882 -0.406061 -0.118943  -0.583276  -0.120677\n"
     ]
    },
    {
     "data": {
      "image/png": "[encoded data removed]",
      "text/plain": [
       "<Figure size 1000x600 with 1 Axes>"
      ]
     },
     "metadata": {},
     "output_type": "display_data"
    }
   ],
   "source": [
    "import pandas as pd\n",
    "import numpy as np\n",
    "import matplotlib.pyplot as plt\n",
    "\n",
    "def plot_grouped_bar_chart_from_df(data_df, aug_names=None, label1='Data TDA v.s. Acc', label2='Model output v.s. Acc', title_key='TDA', aug_type='Scale'):\n",
    "    \"\"\"\n",
    "    Plot a grouped bar chart from a DataFrame.\n",
    "\n",
    "    Parameters:\n",
    "    - data_df (pd.DataFrame): Input DataFrame.\n",
    "    - aug_names (list): List of augmentation names (using DataFrame index).\n",
    "    - label1 (str): Label for the first set of bars.\n",
    "    - label2 (str): Label for the second set of bars.\n",
    "    - title_key (str): Key for the chart title.\n",
    "\n",
    "    Returns:\n",
    "    - None\n",
    "    \"\"\"\n",
    "    if aug_names is None:\n",
    "        aug_names = data_df.index\n",
    "\n",
    "    # Organize data for plotting\n",
    "    columns = data_df.columns\n",
    "    positions = np.arange(len(columns))\n",
    "    bar_width = 0.4\n",
    "\n",
    "    # Plotting\n",
    "    fig, ax = plt.subplots(figsize=(10, 6))\n",
    "    for idx, aug_name in enumerate(aug_names):\n",
    "        row_data = data_df.loc[aug_name].values\n",
    "        ax.bar(positions + bar_width * idx, row_data, bar_width, label=f'{label1} - {aug_name}')\n",
    "\n",
    "    # Set labels and title\n",
    "    ax.set_xlabel('Models')\n",
    "    ax.set_ylabel('Spearman Correlation')\n",
    "    ax.set_title(f'Spearman Correlation between Acc and {title_key} for {aug_type}')\n",
    "    ax.set_xticks(positions + bar_width * (len(aug_names) - 1) / 2)\n",
    "    ax.set_xticklabels(columns)\n",
    "    ax.legend()\n",
    "\n",
    "    # Save the plot as PDF or show the plot\n",
    "    plt.show()\n",
    "\n",
    "# 使用示例\n",
    "data_df = pd.DataFrame({\n",
    "    'MLP': [0.485294, 0.563636, 0.455882, 0.066667],\n",
    "    'LeNet': [0.172136, -0.451684, 0.493492, -0.612647],\n",
    "    'ResNet18': [0.347826, 0.352941, 0.368577, 0.005882],\n",
    "    'ResNet34': [0.183936, 0.030303, 0.129982, -0.406061],\n",
    "    'ResNet50': [0.513168, 0.312776, 0.495109, -0.118943],\n",
    "    'ResNet101': [0.223078, -0.409744, 0.540189, -0.583276],\n",
    "    'ResNet152': [0.183840, 0.217807, 0.207561, -0.120677]\n",
    "})\n",
    "index_list = ['r0', 'rk_max','R0','Rk_max']\n",
    "# 给 DataFrame 添加行索引\n",
    "data_df.index = index_list\n",
    "print(data_df)\n",
    "plot_grouped_bar_chart_from_df(data_df)\n"
   ]
  },
  {
   "attachments": {},
   "cell_type": "markdown",
   "metadata": {},
   "source": [
    "## 考察BOF的情况"
   ]
  },
  {
   "attachments": {},
   "cell_type": "markdown",
   "metadata": {},
   "source": [
    "### Scale"
   ]
  },
  {
   "cell_type": "code",
   "execution_count": 377,
   "metadata": {},
   "outputs": [
    {
     "name": "stdout",
     "output_type": "stream",
     "text": [
      "Dictionary saving the correlation:\n",
      "              MLP     LeNet  ResNet18  ResNet34  ResNet50  ResNet101  ResNet152\n",
      "r0      0.485294  0.172136  0.347826  0.183936  0.513168   0.223078   0.183840\n",
      "rk_max  0.563636 -0.451684  0.352941  0.030303  0.312776  -0.409744   0.217807\n"
     ]
    },
    {
     "data": {
      "image/png": "[encoded data removed]",
      "text/plain": [
       "<Figure size 1000x600 with 1 Axes>"
      ]
     },
     "metadata": {},
     "output_type": "display_data"
    }
   ],
   "source": [
    "control_file_path = './neighbourhood/CIFAR10/Scale_output.xlsx'\n",
    "acc_file_path = './input_data/best_val_acc.xlsx'\n",
    "file_path = './input_data/BOF_data.xlsx'\n",
    "focus_models = ['MLP', 'LeNet', 'ResNet18', 'ResNet34', 'ResNet50', 'ResNet101', 'ResNet152']\n",
    "focus_features = ['r0', 'rk_max']\n",
    "\n",
    "BOF_Scale_result = get_correlation_dict(control_file_path, acc_file_path, file_path, focus_models, focus_features, sheet_name='Scale')\n",
    "print('Dictionary saving the correlation:\\n', BOF_Scale_result)\n",
    "plot_grouped_bar_chart_from_df(BOF_Scale_result, label1='r0 BOF v.s. Acc', label2='rk_max v.s. Acc', title_key='BOF', aug_type='Scale')"
   ]
  },
  {
   "attachments": {},
   "cell_type": "markdown",
   "metadata": {},
   "source": [
    "### Angle"
   ]
  },
  {
   "cell_type": "code",
   "execution_count": 378,
   "metadata": {},
   "outputs": [
    {
     "name": "stdout",
     "output_type": "stream",
     "text": [
      "Dictionary saving the correlation:\n",
      "              MLP     LeNet  ResNet18  ResNet34  ResNet50  ResNet101  ResNet152\n",
      "r0     -0.120498 -0.916667 -0.380635  0.040428 -0.464937  -0.686198   0.076097\n",
      "rk_max -0.215537  1.000000 -0.509879 -0.004850 -0.234150   1.000000  -0.008415\n"
     ]
    },
    {
     "data": {
      "image/png": "[encoded data removed]",
      "text/plain": [
       "<Figure size 1000x600 with 1 Axes>"
      ]
     },
     "metadata": {},
     "output_type": "display_data"
    }
   ],
   "source": [
    "control_file_path = './neighbourhood/CIFAR10/Angle_output.xlsx'\n",
    "acc_file_path = './input_data/best_val_acc.xlsx'\n",
    "file_path = './input_data/BOF_data.xlsx'\n",
    "focus_models = ['MLP', 'LeNet', 'ResNet18', 'ResNet34', 'ResNet50', 'ResNet101', 'ResNet152']\n",
    "focus_features = ['r0', 'rk_max']\n",
    "\n",
    "BOF_Angle_result = get_correlation_dict(control_file_path, acc_file_path, file_path, focus_models, focus_features, sheet_name='Angle')\n",
    "print('Dictionary saving the correlation:\\n', BOF_Angle_result)\n",
    "plot_grouped_bar_chart_from_df(BOF_Angle_result, label1='r0 BOF v.s. Acc', label2='rk_max v.s. Acc', title_key='BOF', aug_type='Angle')"
   ]
  },
  {
   "attachments": {},
   "cell_type": "markdown",
   "metadata": {},
   "source": [
    "## Data TDA"
   ]
  },
  {
   "attachments": {},
   "cell_type": "markdown",
   "metadata": {},
   "source": [
    "### Scale"
   ]
  },
  {
   "cell_type": "code",
   "execution_count": 382,
   "metadata": {},
   "outputs": [
    {
     "name": "stdout",
     "output_type": "stream",
     "text": [
      "Dictionary saving the correlation:\n",
      "            MLP     LeNet  ResNet18  ResNet34  ResNet50  ResNet101  ResNet152\n",
      "Data  0.349845  0.556911  0.402174   0.10635  0.601957   0.618869   0.299975\n"
     ]
    },
    {
     "data": {
      "image/png": "[encoded data removed]",
      "text/plain": [
       "<Figure size 1000x600 with 1 Axes>"
      ]
     },
     "metadata": {},
     "output_type": "display_data"
    }
   ],
   "source": [
    "control_file_path = './neighbourhood/CIFAR10/Angle_output.xlsx'\n",
    "acc_file_path = './input_data/best_val_acc.xlsx'\n",
    "file_path = './input_data/TDA_data.xlsx'\n",
    "focus_models = ['MLP', 'LeNet', 'ResNet18', 'ResNet34', 'ResNet50', 'ResNet101', 'ResNet152']\n",
    "focus_features = ['Data']\n",
    "\n",
    "TDA_Scale_result = get_correlation_dict(control_file_path, acc_file_path, file_path, focus_models, focus_features, sheet_name='Scale')\n",
    "print('Dictionary saving the correlation:\\n', TDA_Scale_result)\n",
    "plot_grouped_bar_chart_from_df(TDA_Scale_result, label1='Data TDA v.s. Acc', title_key='Data TDA', aug_type='Scale')"
   ]
  },
  {
   "attachments": {},
   "cell_type": "markdown",
   "metadata": {},
   "source": [
    "### Angle"
   ]
  },
  {
   "cell_type": "code",
   "execution_count": 385,
   "metadata": {},
   "outputs": [
    {
     "name": "stdout",
     "output_type": "stream",
     "text": [
      "Dictionary saving the correlation:\n",
      "            MLP     LeNet  ResNet18  ResNet34  ResNet50  ResNet101  ResNet152\n",
      "Data  0.282688  0.085919  0.187275  0.029455  0.105652   0.138407  -0.152749\n"
     ]
    },
    {
     "data": {
      "image/png": "[encoded data removed]",
      "text/plain": [
       "<Figure size 1000x600 with 1 Axes>"
      ]
     },
     "metadata": {},
     "output_type": "display_data"
    }
   ],
   "source": [
    "control_file_path = './neighbourhood/CIFAR10/Angle_output.xlsx'\n",
    "acc_file_path = './input_data/best_val_acc.xlsx'\n",
    "file_path = './input_data/TDA_data.xlsx'\n",
    "focus_models = ['MLP', 'LeNet', 'ResNet18', 'ResNet34', 'ResNet50', 'ResNet101', 'ResNet152']\n",
    "focus_features = ['Data']\n",
    "\n",
    "TDA_Angle_result = get_correlation_dict(control_file_path, acc_file_path, file_path, focus_models, focus_features, sheet_name='Angle')\n",
    "print('Dictionary saving the correlation:\\n', TDA_Angle_result)\n",
    "plot_grouped_bar_chart_from_df(TDA_Angle_result, label1='Data TDA v.s. Acc', title_key='Data TDA', aug_type='Angle')"
   ]
  },
  {
   "attachments": {},
   "cell_type": "markdown",
   "metadata": {},
   "source": [
    "## Model TDA"
   ]
  },
  {
   "attachments": {},
   "cell_type": "markdown",
   "metadata": {},
   "source": [
    "### Scale"
   ]
  },
  {
   "cell_type": "code",
   "execution_count": 386,
   "metadata": {},
   "outputs": [
    {
     "name": "stdout",
     "output_type": "stream",
     "text": [
      "Dictionary saving the correlation:\n",
      "                MLP     LeNet  ResNet18  ResNet34  ResNet50  ResNet101  \\\n",
      "Model_TDA -0.86014  0.093769  0.247059 -0.400294 -0.212942   0.412102   \n",
      "\n",
      "           ResNet152  \n",
      "Model_TDA   0.425313  \n"
     ]
    },
    {
     "data": {
      "image/png": "[encoded data removed]",
      "text/plain": [
       "<Figure size 1000x600 with 1 Axes>"
      ]
     },
     "metadata": {},
     "output_type": "display_data"
    }
   ],
   "source": [
    "control_file_path = './neighbourhood/CIFAR10/Scale_output.xlsx'\n",
    "acc_file_path = './input_data/best_val_acc.xlsx'\n",
    "file_path = './input_data/TDA_out_2_all_bars_surviver_time.xlsx'\n",
    "focus_models = ['MLP', 'LeNet', 'ResNet18', 'ResNet34', 'ResNet50', 'ResNet101', 'ResNet152']\n",
    "focus_features =  ['MLP', 'LeNet', 'ResNet18', 'ResNet34', 'ResNet50', 'ResNet101', 'ResNet152']\n",
    "\n",
    "TDA_model_Scale_result = get_correlation_dict(control_file_path, acc_file_path, file_path, focus_models, focus_features, sheet_name='Scale')\n",
    "print('Dictionary saving the correlation:\\n', TDA_model_Scale_result)\n",
    "plot_grouped_bar_chart_from_df(TDA_model_Scale_result, label1='Model TDA v.s. Acc', title_key='Model TDA', aug_type='Scale')"
   ]
  },
  {
   "attachments": {},
   "cell_type": "markdown",
   "metadata": {},
   "source": [
    "### Angle"
   ]
  },
  {
   "cell_type": "code",
   "execution_count": 387,
   "metadata": {},
   "outputs": [
    {
     "name": "stdout",
     "output_type": "stream",
     "text": [
      "Dictionary saving the correlation:\n",
      "                MLP     LeNet  ResNet18  ResNet34  ResNet50  ResNet101  \\\n",
      "Model_TDA  0.35564  0.518384  0.119237  0.038471  0.092659   0.130867   \n",
      "\n",
      "           ResNet152  \n",
      "Model_TDA   0.101494  \n"
     ]
    },
    {
     "data": {
      "image/png": "[encoded data removed]",
      "text/plain": [
       "<Figure size 1000x600 with 1 Axes>"
      ]
     },
     "metadata": {},
     "output_type": "display_data"
    }
   ],
   "source": [
    "control_file_path = './neighbourhood/CIFAR10/Angle_output.xlsx'\n",
    "acc_file_path = './input_data/best_val_acc.xlsx'\n",
    "file_path = './input_data/TDA_out_2_all_bars_surviver_time.xlsx'\n",
    "focus_models = ['MLP', 'LeNet', 'ResNet18', 'ResNet34', 'ResNet50', 'ResNet101', 'ResNet152']\n",
    "focus_features =  ['MLP', 'LeNet', 'ResNet18', 'ResNet34', 'ResNet50', 'ResNet101', 'ResNet152']\n",
    "\n",
    "TDA_model_angle_result = get_correlation_dict(control_file_path, acc_file_path, file_path, focus_models, focus_features, sheet_name='Angle')\n",
    "print('Dictionary saving the correlation:\\n', TDA_model_angle_result)\n",
    "plot_grouped_bar_chart_from_df(TDA_model_angle_result, label1='Model TDA v.s. Acc', title_key='Model TDA', aug_type='Angle')"
   ]
  }
 ],
 "metadata": {
  "kernelspec": {
   "display_name": "PyTorchGpu",
   "language": "python",
   "name": "python3"
  },
  "language_info": {
   "codemirror_mode": {
    "name": "ipython",
    "version": 3
   },
   "file_extension": ".py",
   "mimetype": "text/x-python",
   "name": "python",
   "nbconvert_exporter": "python",
   "pygments_lexer": "ipython3",
   "version": "3.11.4"
  },
  "orig_nbformat": 4
 },
 "nbformat": 4,
 "nbformat_minor": 2
}
