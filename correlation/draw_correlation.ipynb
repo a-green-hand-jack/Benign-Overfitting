{
 "cells": [
  {
   "cell_type": "code",
   "execution_count": 1,
   "metadata": {},
   "outputs": [],
   "source": [
    "%load_ext autoreload\n",
    "%autoreload 2"
   ]
  },
  {
   "attachments": {},
   "cell_type": "markdown",
   "metadata": {},
   "source": [
    "# 绘制TDA和Acc之间的相关性"
   ]
  },
  {
   "attachments": {},
   "cell_type": "markdown",
   "metadata": {},
   "source": [
    "## 首先需要定义一些函数"
   ]
  },
  {
   "attachments": {},
   "cell_type": "markdown",
   "metadata": {},
   "source": [
    "### 计算相关性的函数"
   ]
  },
  {
   "cell_type": "code",
   "execution_count": 2,
   "metadata": {},
   "outputs": [
    {
     "name": "stdout",
     "output_type": "stream",
     "text": [
      "Spearman Correlation Coefficient: 0.7\n",
      "P-value: 0.1881204043741873\n"
     ]
    }
   ],
   "source": [
    "# 这里需要定义一个计算相关性的函数\n",
    "# 计算的是*spearman correlation*\n",
    "\n",
    "from scipy.stats import spearmanr\n",
    "\n",
    "def calculate_spearman_correlation(vector1, vector2):\n",
    "    \"\"\"\n",
    "    Calculate the Spearman correlation between two vectors.\n",
    "\n",
    "    Parameters:\n",
    "    - vector1 (array-like): The first vector.\n",
    "    - vector2 (array-like): The second vector.\n",
    "\n",
    "    Returns:\n",
    "    - float: The Spearman correlation coefficient.\n",
    "    - float: The two-tailed p-value for a hypothesis test whose null hypothesis is that the two samples are uncorrelated.\n",
    "    \"\"\"\n",
    "    correlation_coefficient, p_value = spearmanr(vector1, vector2)\n",
    "    return correlation_coefficient, p_value\n",
    "\n",
    "# Example Usage:\n",
    "vector1 = [1, 2, 3, 4, 5]\n",
    "vector2 = [2, 3, 1, 4, 5]\n",
    "\n",
    "correlation, p_value = calculate_spearman_correlation(vector1, vector2)\n",
    "\n",
    "print(f\"Spearman Correlation Coefficient: {correlation}\")\n",
    "print(f\"P-value: {p_value}\")\n"
   ]
  },
  {
   "attachments": {},
   "cell_type": "markdown",
   "metadata": {},
   "source": [
    "### 计算数据中的相关性"
   ]
  },
  {
   "cell_type": "code",
   "execution_count": 13,
   "metadata": {},
   "outputs": [
    {
     "name": "stdout",
     "output_type": "stream",
     "text": [
      "Spearman Correlation Coefficient: 0.228719098126082\n",
      "P-value: 0.0020133736873981707\n"
     ]
    }
   ],
   "source": [
    "import pandas as pd\n",
    "def calculate_correlation_between_excel_sheets(file_path1, sheet_name1, column_name1, file_path2, sheet_name2, column_name2):\n",
    "    \"\"\"\n",
    "    Calculate the Spearman correlation between two columns in different Excel files.\n",
    "\n",
    "    Parameters:\n",
    "    - file_path1 (str): Path to the first Excel file.\n",
    "    - sheet_name1 (str): Name of the sheet in the first Excel file.\n",
    "    - column_name1 (str): Name of the column in the first sheet for which correlation is calculated.\n",
    "\n",
    "    - file_path2 (str): Path to the second Excel file.\n",
    "    - sheet_name2 (str): Name of the sheet in the second Excel file.\n",
    "    - column_name2 (str): Name of the column in the second sheet for which correlation is calculated.\n",
    "\n",
    "    Returns:\n",
    "    - float: The Spearman correlation coefficient.\n",
    "    - float: The two-tailed p-value for a hypothesis test whose null hypothesis is that the two samples are uncorrelated.\n",
    "    \"\"\"\n",
    "    # Read data from Excel files\n",
    "    df1 = pd.read_excel(file_path1, sheet_name=sheet_name1)\n",
    "    df2 = pd.read_excel(file_path2, sheet_name=sheet_name2)\n",
    "\n",
    "    # Extract columns\n",
    "    vector1 = df1[column_name1]\n",
    "    vector2 = df2[column_name2]\n",
    "\n",
    "    # Calculate Spearman correlation\n",
    "    correlation_coefficient, p_value = calculate_spearman_correlation(vector1, vector2)\n",
    "\n",
    "    return correlation_coefficient, p_value\n",
    "\n",
    "# Example Usage:\n",
    "file_path1 = 'best_val_acc.xlsx'\n",
    "sheet_name1 = 'Angle'\n",
    "column_name1 = 'ResNet18'\n",
    "\n",
    "file_path2 = 'TDA_out_2_all_bars_surviver_time.xlsx'\n",
    "sheet_name2 = sheet_name1\n",
    "column_name2 = column_name1\n",
    "\n",
    "correlation, p_value = calculate_correlation_between_excel_sheets(file_path1, sheet_name1, column_name1, file_path2, sheet_name2, column_name2)\n",
    "\n",
    "print(f\"Spearman Correlation Coefficient: {correlation}\")\n",
    "print(f\"P-value: {p_value}\")"
   ]
  },
  {
   "cell_type": "code",
   "execution_count": 34,
   "metadata": {},
   "outputs": [],
   "source": [
    "import pandas as pd\n",
    "\n",
    "def calculate_correlations_for_all_columns(file_path1, file_path2, sheet_names, column_names, if_data=False, excel_path = 'output_file.xlsx'):\n",
    "    \"\"\"\n",
    "    Calculate Spearman correlations for all combinations of sheets and columns between two Excel files.\n",
    "\n",
    "    Parameters:\n",
    "    - file_path1 (str): Path to the first Excel file.\n",
    "    - file_path2 (str): Path to the second Excel file.\n",
    "    - sheet_names (list): List of sheet names present in both Excel files.\n",
    "    - column_names (list): List of column names present in each sheet.\n",
    "\n",
    "    Returns:\n",
    "    - pd.DataFrame: DataFrame containing correlation coefficients for all combinations.\n",
    "    \"\"\"\n",
    "    correlation_data = []\n",
    "\n",
    "    for sheet_name in sheet_names:\n",
    "        for column_name in column_names:\n",
    "            if if_data:\n",
    "                correlation_coefficient, p_value = calculate_correlation_between_excel_sheets(\n",
    "                    file_path1, sheet_name, column_name,\n",
    "                    file_path2, sheet_name, 'Data'\n",
    "                )\n",
    "            else:\n",
    "                correlation_coefficient, p_value = calculate_correlation_between_excel_sheets(\n",
    "                    file_path1, sheet_name, column_name,\n",
    "                    file_path2, sheet_name, column_name\n",
    "                )\n",
    "            correlation_data.append({\n",
    "                'Sheet': sheet_name,\n",
    "                'Column': column_name,\n",
    "                'Correlation': correlation_coefficient,\n",
    "                'P-value': p_value\n",
    "            })\n",
    "\n",
    "    correlation_df = pd.DataFrame(correlation_data)\n",
    "    \n",
    "    # Sample DataFrame\n",
    "    data = correlation_df\n",
    "\n",
    "    df = pd.DataFrame(data)\n",
    "\n",
    "    # Drop the 'P-value' column\n",
    "    df = df.drop('P-value', axis=1)\n",
    "\n",
    "    # Pivot the DataFrame\n",
    "    df_pivot = df.pivot(index='Sheet', columns='Column', values='Correlation')\n",
    "    # Set 'Sheet' as the index\n",
    "    # df_pivot.set_index('Column', inplace=True)\n",
    "\n",
    "    # Save to Excel\n",
    "    \n",
    "    df_pivot.to_excel(excel_path)\n",
    "\n",
    "    print(f'DataFrame saved to {excel_path}')\n",
    "    return df_pivot\n",
    "\n"
   ]
  },
  {
   "attachments": {},
   "cell_type": "markdown",
   "metadata": {},
   "source": [
    "### 绘制柱形图"
   ]
  },
  {
   "cell_type": "code",
   "execution_count": 55,
   "metadata": {},
   "outputs": [],
   "source": [
    "import pandas as pd\n",
    "import matplotlib.pyplot as plt\n",
    "import numpy as np\n",
    "import matplotlib.backends.backend_pdf as pdf_backend\n",
    "\n",
    "def plot_grouped_bar_chart(file_path1, file_path2, row_index, aug_names = ['Angle', 'Scale']):\n",
    "    \"\"\"\n",
    "    Read specified rows from two Excel files and plot a grouped bar chart.\n",
    "\n",
    "    Parameters:\n",
    "    - file_path1 (str): Path to the first Excel file.\n",
    "    - file_path2 (str): Path to the second Excel file.\n",
    "    - row_index (int): Index of the row to plot.\n",
    "\n",
    "    Returns:\n",
    "    - None\n",
    "    \"\"\"\n",
    "    \n",
    "    # Read data from Excel files\n",
    "    df1 = pd.read_excel(file_path1, index_col=0)\n",
    "    df2 = pd.read_excel(file_path2, index_col=0)\n",
    "\n",
    "    # Select the specified row\n",
    "    row_data1 = df1.iloc[row_index]\n",
    "    row_data2 = df2.iloc[row_index]\n",
    "    # print(row_data1, '\\n', row_data2)\n",
    "\n",
    "    # Organize data for plotting\n",
    "    columns = df1.columns\n",
    "    positions = np.arange(len(columns))\n",
    "    bar_width = 0.1\n",
    "\n",
    "    # Plotting\n",
    "    fig, ax = plt.subplots()\n",
    "    bars1 = ax.bar(positions - bar_width/2, row_data1, bar_width, label='Data TDA v.s. Acc')\n",
    "    bars2 = ax.bar(positions + bar_width/2, row_data2, bar_width, label='Model output v.s. Acc')\n",
    "\n",
    "    # Set labels and title\n",
    "    ax.set_xlabel('Columns')\n",
    "    ax.set_ylabel('Spearman orrelation')\n",
    "    ax.set_title(f'Spearman orrelation between Acc and TDA in {aug_names[row_index]}')\n",
    "    ax.set_xticks(positions)\n",
    "    ax.set_xticklabels(columns)\n",
    "    ax.legend()\n",
    "\n",
    "    # Save the plot as PDF\n",
    "    pdf = pdf_backend.PdfPages(f\"Spearman orrelation between Acc and TDA in {aug_names[row_index]}.pdf\")\n",
    "    pdf.savefig(fig)\n",
    "    pdf.close()\n",
    "\n",
    "    # Show the plot\n",
    "    plt.show()\n"
   ]
  },
  {
   "attachments": {},
   "cell_type": "markdown",
   "metadata": {},
   "source": [
    "## 计算相关性和画图"
   ]
  },
  {
   "cell_type": "code",
   "execution_count": 44,
   "metadata": {},
   "outputs": [
    {
     "name": "stdout",
     "output_type": "stream",
     "text": [
      "DataFrame saved to TDA_output_correlation.xlsx\n",
      "DataFrame saved to TDA_data_correlation.xlsx\n",
      "Column     LeNet       MLP  ResNet101  ResNet152  ResNet18  ResNet34  ResNet50\n",
      "Sheet                                                                         \n",
      "Angle   0.627330  0.214745   0.157393        NaN  0.228719  0.228476  0.198327\n",
      "Scale   0.713087  0.730827   0.762466   0.767893  0.835214  0.832675  0.703158\n",
      "Column     LeNet       MLP  ResNet101  ResNet152  ResNet18  ResNet34  ResNet50\n",
      "Sheet                                                                         \n",
      "Angle   0.199562  0.205292   0.185225   0.023979  0.194427  0.219589  0.194017\n",
      "Scale   0.836253  0.780351   0.859108   0.848006  0.879741  0.761317  0.868447\n"
     ]
    }
   ],
   "source": [
    "# Example Usage:\n",
    "file_path1 = 'best_val_acc.xlsx'\n",
    "file_path2 = 'TDA_out_2_all_bars_surviver_time.xlsx'\n",
    "file_path_data = 'TDA_data.xlsx'\n",
    "sheet_names = ['Scale', 'Angle']\n",
    "column_names = ['MLP', 'LeNet', 'ResNet18', 'ResNet34', 'ResNet50', 'ResNet101', 'ResNet152']\n",
    "\n",
    "correlation_df = calculate_correlations_for_all_columns(file_path1, file_path2, sheet_names, column_names, excel_path='TDA_output_correlation.xlsx')\n",
    "correlation_df_data = calculate_correlations_for_all_columns(file_path1, file_path_data, sheet_names, column_names, if_data=True, excel_path='TDA_data_correlation.xlsx')\n",
    "# Display the resulting DataFrame\n",
    "print(correlation_df)\n",
    "print(correlation_df_data)"
   ]
  },
  {
   "cell_type": "code",
   "execution_count": 57,
   "metadata": {},
   "outputs": [
    {
     "data": {
      "image/png": "[encoded data removed]",
      "text/plain": [
       "<Figure size 640x480 with 1 Axes>"
      ]
     },
     "metadata": {},
     "output_type": "display_data"
    }
   ],
   "source": [
    "# Example Usage:\n",
    "file_path1 = 'TDA_data_correlation.xlsx'\n",
    "file_path2 = 'TDA_output_correlation.xlsx'\n",
    "row_index = 0  # Choose the row index to plot\n",
    "\n",
    "plot_grouped_bar_chart(file_path1, file_path2, row_index)\n"
   ]
  }
 ],
 "metadata": {
  "kernelspec": {
   "display_name": "PyTorchGpu",
   "language": "python",
   "name": "python3"
  },
  "language_info": {
   "codemirror_mode": {
    "name": "ipython",
    "version": 3
   },
   "file_extension": ".py",
   "mimetype": "text/x-python",
   "name": "python",
   "nbconvert_exporter": "python",
   "pygments_lexer": "ipython3",
   "version": "3.11.4"
  },
  "orig_nbformat": 4
 },
 "nbformat": 4,
 "nbformat_minor": 2
}
