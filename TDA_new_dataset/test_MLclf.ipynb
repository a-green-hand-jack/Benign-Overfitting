{
 "cells": [
  {
   "cell_type": "code",
   "execution_count": 1,
   "metadata": {},
   "outputs": [],
   "source": [
    "%load_ext autoreload\n",
    "%autoreload 2"
   ]
  },
  {
   "attachments": {},
   "cell_type": "markdown",
   "metadata": {},
   "source": [
    "# 测试MLclf\n",
    "\n",
    "在使用`tiny-imagenet`和`mini-imagenet`时，这似乎是一个很好的选择；这里做一下测试"
   ]
  },
  {
   "attachments": {},
   "cell_type": "markdown",
   "metadata": {},
   "source": [
    "## 处理`mini-imagenet`"
   ]
  },
  {
   "cell_type": "code",
   "execution_count": 3,
   "metadata": {},
   "outputs": [
    {
     "name": "stdout",
     "output_type": "stream",
     "text": [
      "The mini-imagenet pkl files have been existed, no unzipping is needed!\n"
     ]
    },
    {
     "ename": "KeyError",
     "evalue": "'mini-imagenet'",
     "output_type": "error",
     "traceback": [
      "\u001b[1;31m---------------------------------------------------------------------------\u001b[0m",
      "\u001b[1;31mKeyError\u001b[0m                                  Traceback (most recent call last)",
      "Cell \u001b[1;32mIn[3], line 28\u001b[0m\n\u001b[0;32m     22\u001b[0m train_loader \u001b[39m=\u001b[39m torch\u001b[39m.\u001b[39mutils\u001b[39m.\u001b[39mdata\u001b[39m.\u001b[39mDataLoader(dataset\u001b[39m=\u001b[39mtrain_dataset, batch_size\u001b[39m=\u001b[39m\u001b[39m128\u001b[39m, shuffle\u001b[39m=\u001b[39m\u001b[39mTrue\u001b[39;00m, num_workers\u001b[39m=\u001b[39m\u001b[39m0\u001b[39m)\n\u001b[0;32m     25\u001b[0m \u001b[39m# You can check the corresponding relations between labels and label_marks of the image data:\u001b[39;00m\n\u001b[0;32m     26\u001b[0m \u001b[39m# (Note: The relations below can be obtained after MLclf.miniimagenet_clf_dataset is called, otherwise they will be returned as None instead.)\u001b[39;00m\n\u001b[1;32m---> 28\u001b[0m labels_to_marks \u001b[39m=\u001b[39m MLclf\u001b[39m.\u001b[39;49mlabels_to_marks[\u001b[39m'\u001b[39;49m\u001b[39mmini-imagenet\u001b[39;49m\u001b[39m'\u001b[39;49m]\n\u001b[0;32m     29\u001b[0m marks_to_labels \u001b[39m=\u001b[39m MLclf\u001b[39m.\u001b[39mmarks_to_labels[\u001b[39m'\u001b[39m\u001b[39mmini-imagenet\u001b[39m\u001b[39m'\u001b[39m]\n",
      "\u001b[1;31mKeyError\u001b[0m: 'mini-imagenet'"
     ]
    }
   ],
   "source": [
    "from MLclf import MLclf\n",
    "import torch\n",
    "import torchvision.transforms as transforms\n",
    "\n",
    "# Download the original mini-imagenet data:\n",
    "MLclf.miniimagenet_download(Download=False) # only need to run this line before you download the mini-imagenet dataset for the first time. And the data will be downloaded to a newly-created folder in the current directory.\n",
    "\n",
    "# Transform the original data into the format that fits the task for classification:\n",
    "# Note: If you want to keep the data format as the same as that for the meta-learning or few-shot learning (original format), just set ratio_train=0.64, ratio_val=0.16, shuffle=False.\n",
    "\n",
    "transform = transforms.Compose([\n",
    "            transforms.ToTensor(),\n",
    "            transforms.Resize((32, 32)),\n",
    "            transforms.Normalize((0.5, 0.5, 0.5), (0.5, 0.5, 0.5))\n",
    "            ])\n",
    "# The argument transform is a optional keyword. You can also set transform = None or simply not set transform, if you do not want the data being standardized and only want a normalization b/t [0,1].\n",
    "# The line below transformed the mini-imagenet data into the format for the traditional classification task, e.g. 60% training, 20% validation and 20% testing, with 100 classes in each of training/validation/testing set.\n",
    "train_dataset, validation_dataset, test_dataset = MLclf.miniimagenet_clf_dataset(ratio_train=0.6, ratio_val=0.2, seed_value=None, shuffle=True, transform=transform, save_clf_data=True)\n",
    "\n",
    "# The dataset can be easily converted to dataloader via torch: \n",
    "\n",
    "train_loader = torch.utils.data.DataLoader(dataset=train_dataset, batch_size=128, shuffle=True, num_workers=0)\n",
    "\n",
    "\n",
    "# You can check the corresponding relations between labels and label_marks of the image data:\n",
    "# (Note: The relations below can be obtained after MLclf.miniimagenet_clf_dataset is called, otherwise they will be returned as None instead.)\n",
    "\n",
    "labels_to_marks = MLclf.labels_to_marks['mini-imagenet']\n",
    "marks_to_labels = MLclf.marks_to_labels['mini-imagenet']"
   ]
  },
  {
   "attachments": {},
   "cell_type": "markdown",
   "metadata": {},
   "source": [
    "## 处理`tiny-imagenet`"
   ]
  },
  {
   "cell_type": "code",
   "execution_count": 4,
   "metadata": {},
   "outputs": [
    {
     "name": "stdout",
     "output_type": "stream",
     "text": [
      "The tiny-imagenet pkl files have been existed, no unzipping is needed!\n"
     ]
    },
    {
     "ename": "KeyError",
     "evalue": "'tiny-imagenet'",
     "output_type": "error",
     "traceback": [
      "\u001b[1;31m---------------------------------------------------------------------------\u001b[0m",
      "\u001b[1;31mKeyError\u001b[0m                                  Traceback (most recent call last)",
      "Cell \u001b[1;32mIn[4], line 21\u001b[0m\n\u001b[0;32m     16\u001b[0m train_loader \u001b[39m=\u001b[39m torch\u001b[39m.\u001b[39mutils\u001b[39m.\u001b[39mdata\u001b[39m.\u001b[39mDataLoader(dataset\u001b[39m=\u001b[39mtrain_dataset, batch_size\u001b[39m=\u001b[39m\u001b[39m5\u001b[39m, shuffle\u001b[39m=\u001b[39m\u001b[39mTrue\u001b[39;00m, num_workers\u001b[39m=\u001b[39m\u001b[39m0\u001b[39m)\n\u001b[0;32m     18\u001b[0m \u001b[39m# You can check the corresponding relations between labels and label_marks of the image data:\u001b[39;00m\n\u001b[0;32m     19\u001b[0m \u001b[39m# (Note: The relations below can be obtained after MLclf.tinyimagenet_clf_dataset is called, otherwise they will be returned as None instead.)\u001b[39;00m\n\u001b[1;32m---> 21\u001b[0m labels_to_marks \u001b[39m=\u001b[39m MLclf\u001b[39m.\u001b[39;49mlabels_to_marks[\u001b[39m'\u001b[39;49m\u001b[39mtiny-imagenet\u001b[39;49m\u001b[39m'\u001b[39;49m]\n\u001b[0;32m     22\u001b[0m marks_to_labels \u001b[39m=\u001b[39m MLclf\u001b[39m.\u001b[39mmarks_to_labels[\u001b[39m'\u001b[39m\u001b[39mtiny-imagenet\u001b[39m\u001b[39m'\u001b[39m]\n\u001b[0;32m     25\u001b[0m data_raw_train, data_raw_val, data_raw_test \u001b[39m=\u001b[39m MLclf\u001b[39m.\u001b[39mtinyimagenet_data_raw()\n",
      "\u001b[1;31mKeyError\u001b[0m: 'tiny-imagenet'"
     ]
    }
   ],
   "source": [
    "from MLclf import MLclf\n",
    "import torch\n",
    "import torchvision.transforms as transforms\n",
    "\n",
    "MLclf.tinyimagenet_download(Download=False) # only need to run this line before you download the tiny-imagenet dataset for the first time.\n",
    "transform = transforms.Compose([\n",
    "            transforms.ToTensor(),\n",
    "            transforms.Resize((32, 32)),\n",
    "            transforms.Normalize((0.5, 0.5, 0.5), (0.5, 0.5, 0.5))\n",
    "            ])\n",
    "train_dataset, validation_dataset, test_dataset = MLclf.tinyimagenet_clf_dataset(ratio_train=0.6, ratio_val=0.2,\n",
    "                                                                                     seed_value=None, shuffle=True,\n",
    "                                                                                     transform=transform,\n",
    "                                                                                     save_clf_data=True,\n",
    "                                                                                     few_shot=False)\n",
    "train_loader = torch.utils.data.DataLoader(dataset=train_dataset, batch_size=5, shuffle=True, num_workers=0)\n",
    "\n",
    "# You can check the corresponding relations between labels and label_marks of the image data:\n",
    "# (Note: The relations below can be obtained after MLclf.tinyimagenet_clf_dataset is called, otherwise they will be returned as None instead.)\n",
    "\n",
    "labels_to_marks = MLclf.labels_to_marks['tiny-imagenet']\n",
    "marks_to_labels = MLclf.marks_to_labels['tiny-imagenet']\n",
    "\n",
    "\n",
    "data_raw_train, data_raw_val, data_raw_test = MLclf.tinyimagenet_data_raw()"
   ]
  }
 ],
 "metadata": {
  "kernelspec": {
   "display_name": "PyTorchGpu",
   "language": "python",
   "name": "python3"
  },
  "language_info": {
   "codemirror_mode": {
    "name": "ipython",
    "version": 3
   },
   "file_extension": ".py",
   "mimetype": "text/x-python",
   "name": "python",
   "nbconvert_exporter": "python",
   "pygments_lexer": "ipython3",
   "version": "3.11.4"
  },
  "orig_nbformat": 4
 },
 "nbformat": 4,
 "nbformat_minor": 2
}
