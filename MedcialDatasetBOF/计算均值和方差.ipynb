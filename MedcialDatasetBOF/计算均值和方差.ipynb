{
 "cells": [
  {
   "cell_type": "code",
   "execution_count": 14,
   "metadata": {},
   "outputs": [
    {
     "name": "stdout",
     "output_type": "stream",
     "text": [
      "均值和方差（images文件夹）：\n",
      "均值： [60.215605702690645, 49.47938440048857, 45.564065575875404]\n",
      "方差： [0.0, 0.0, 0.0]\n",
      "均值和方差（masks文件夹）：\n",
      "均值： [54.57621928812819, 54.57621928812819, 54.57621928812819]\n",
      "方差： [0.0, 0.0, 0.0]\n"
     ]
    }
   ],
   "source": [
    "import os\n",
    "from PIL import Image\n",
    "import numpy as np\n",
    "\n",
    "class ImageStatsCalculator:\n",
    "    def __init__(self, folder_path):\n",
    "        self.folder_path = folder_path\n",
    "        self.mean_images, self.std_images = self.calculate_stats(os.path.join(folder_path, 'images'))\n",
    "        self.mean_masks, self.std_masks = self.calculate_stats(os.path.join(folder_path, 'masks'))\n",
    "\n",
    "    def calculate_stats(self, folder_path):\n",
    "        image_files = [f for f in os.listdir(folder_path) if f.endswith(('.png', '.jpg', '.jpeg'))]\n",
    "        image_count = len(image_files)\n",
    "        channel_sums = np.zeros(3, dtype=np.float64)\n",
    "        channel_sums_squared = np.zeros(3, dtype=np.float64)\n",
    "\n",
    "        for image_file in image_files:\n",
    "            image_path = os.path.join(folder_path, image_file)\n",
    "            img = np.array(Image.open(image_path))\n",
    "\n",
    "            if img.ndim == 2:  # Single-channel image\n",
    "                img = np.expand_dims(img, axis=-1)  # Add an extra channel dimension\n",
    "\n",
    "            # Flatten the image to calculate mean and std across all channels\n",
    "            flattened_img = img.reshape(-1, img.shape[-1])\n",
    "\n",
    "            channel_sums += np.sum(flattened_img, axis=0)\n",
    "            channel_sums_squared += np.sum(flattened_img ** 2, axis=0)\n",
    "\n",
    "        mean = channel_sums / (image_count * img.size)\n",
    "        variance = ((channel_sums_squared / (image_count * img.size)) - mean ** 2)\n",
    "\n",
    "        # Clip to ensure non-negative variance values\n",
    "        std = np.sqrt(np.clip(variance, a_min=0, a_max=None))\n",
    "        # std = variance\n",
    "\n",
    "\n",
    "        return mean.tolist(), std.tolist()\n",
    "\n",
    "if __name__ == \"__main__\":\n",
    "\n",
    "    dataset=\"ISIC2018\"\n",
    "    folder_path = f\"../../others_work/dataset/{dataset}/train_folder\"\n",
    "    stats_calculator = ImageStatsCalculator(folder_path)\n",
    "\n",
    "    print(\"均值和方差（images文件夹）：\")\n",
    "    print(\"均值：\", stats_calculator.mean_images)\n",
    "    print(\"方差：\", stats_calculator.std_images)\n",
    "\n",
    "    print(\"均值和方差（masks文件夹）：\")\n",
    "    print(\"均值：\", stats_calculator.mean_masks)\n",
    "    print(\"方差：\", stats_calculator.std_masks)\n"
   ]
  }
 ],
 "metadata": {
  "kernelspec": {
   "display_name": "PyTorchGpu",
   "language": "python",
   "name": "python3"
  },
  "language_info": {
   "codemirror_mode": {
    "name": "ipython",
    "version": 3
   },
   "file_extension": ".py",
   "mimetype": "text/x-python",
   "name": "python",
   "nbconvert_exporter": "python",
   "pygments_lexer": "ipython3",
   "version": "3.11.4"
  },
  "orig_nbformat": 4
 },
 "nbformat": 4,
 "nbformat_minor": 2
}
