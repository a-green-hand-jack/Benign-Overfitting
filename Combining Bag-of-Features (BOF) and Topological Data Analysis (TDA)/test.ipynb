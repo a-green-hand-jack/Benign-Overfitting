{
 "cells": [
  {
   "cell_type": "code",
   "execution_count": 2,
   "metadata": {},
   "outputs": [
    {
     "ename": "ModuleNotFoundError",
     "evalue": "No module named 'get_betti_number'",
     "output_type": "error",
     "traceback": [
      "\u001b[1;31m---------------------------------------------------------------------------\u001b[0m",
      "\u001b[1;31mModuleNotFoundError\u001b[0m                       Traceback (most recent call last)",
      "Cell \u001b[1;32mIn[2], line 1\u001b[0m\n\u001b[1;32m----> 1\u001b[0m \u001b[39mfrom\u001b[39;00m \u001b[39mtrainer\u001b[39;00m\u001b[39m.\u001b[39;00m\u001b[39mone_bof_tda\u001b[39;00m \u001b[39mimport\u001b[39;00m model_with_one_augmentation\n\u001b[0;32m      2\u001b[0m \u001b[39mfrom\u001b[39;00m \u001b[39mnets\u001b[39;00m\u001b[39m.\u001b[39;00m\u001b[39msimple_net\u001b[39;00m \u001b[39mimport\u001b[39;00m MLP, LeNet\n\u001b[0;32m      4\u001b[0m MLP_no_aug \u001b[39m=\u001b[39m model_with_one_augmentation(model\u001b[39m=\u001b[39mMLP(), net_name\u001b[39m=\u001b[39m\u001b[39m\"\u001b[39m\u001b[39mMLP\u001b[39m\u001b[39m\"\u001b[39m, transform\u001b[39m=\u001b[39m\u001b[39mNone\u001b[39;00m, augmentation_name\u001b[39m=\u001b[39m\u001b[39m\"\u001b[39m\u001b[39mNO\u001b[39m\u001b[39m\"\u001b[39m)\n",
      "File \u001b[1;32md:\\自学计算机\\MY_Project\\WuYang\\Combining Bag-of-Features (BOF) and Topological Data Analysis (TDA)\\trainer\\one_bof_tda.py:19\u001b[0m\n\u001b[0;32m     17\u001b[0m \u001b[39mfrom\u001b[39;00m \u001b[39mTDA\u001b[39;00m\u001b[39m.\u001b[39;00m\u001b[39mget_dataloader\u001b[39;00m \u001b[39mimport\u001b[39;00m get_dataloader,loader2vec, vec_dis\n\u001b[0;32m     18\u001b[0m \u001b[39mfrom\u001b[39;00m \u001b[39mTDA\u001b[39;00m\u001b[39m.\u001b[39;00m\u001b[39mdata2betti\u001b[39;00m \u001b[39mimport\u001b[39;00m distance_betti, distance_betti_ripser, plt_betti_number,plot_betti_number_bars\n\u001b[1;32m---> 19\u001b[0m \u001b[39mfrom\u001b[39;00m \u001b[39mTDA\u001b[39;00m\u001b[39m.\u001b[39;00m\u001b[39mafter_betti\u001b[39;00m \u001b[39mimport\u001b[39;00m calculate_edge_length\n\u001b[0;32m     20\u001b[0m \u001b[39mfrom\u001b[39;00m \u001b[39mripser\u001b[39;00m \u001b[39mimport\u001b[39;00m Rips, ripser\n\u001b[0;32m     21\u001b[0m \u001b[39mfrom\u001b[39;00m \u001b[39mnets\u001b[39;00m\u001b[39m.\u001b[39;00m\u001b[39msimple_net\u001b[39;00m \u001b[39mimport\u001b[39;00m MLP,LeNet,ModelInitializer, init_weights, mixup_data\n",
      "File \u001b[1;32md:\\自学计算机\\MY_Project\\WuYang\\Combining Bag-of-Features (BOF) and Topological Data Analysis (TDA)\\TDA\\after_betti.py:7\u001b[0m\n\u001b[0;32m      4\u001b[0m \u001b[39mimport\u001b[39;00m \u001b[39mre\u001b[39;00m\n\u001b[0;32m      5\u001b[0m \u001b[39mfrom\u001b[39;00m \u001b[39mtyping\u001b[39;00m \u001b[39mimport\u001b[39;00m Tuple\n\u001b[1;32m----> 7\u001b[0m \u001b[39mfrom\u001b[39;00m \u001b[39mget_betti_number\u001b[39;00m \u001b[39mimport\u001b[39;00m check_folder_integrity\n\u001b[0;32m     10\u001b[0m \u001b[39mdef\u001b[39;00m \u001b[39mtry_parse_float\u001b[39m(s):\n\u001b[0;32m     11\u001b[0m \u001b[39m    \u001b[39m\u001b[39m\"\"\"\u001b[39;00m\n\u001b[0;32m     12\u001b[0m \u001b[39m    尝试将字符串转换为浮点数。如果成功，返回浮点数；否则，返回原始字符串。\u001b[39;00m\n\u001b[0;32m     13\u001b[0m \n\u001b[1;32m   (...)\u001b[0m\n\u001b[0;32m     18\u001b[0m \u001b[39m    成功转换为浮点数的值，或者原始字符串。\u001b[39;00m\n\u001b[0;32m     19\u001b[0m \u001b[39m    \"\"\"\u001b[39;00m\n",
      "\u001b[1;31mModuleNotFoundError\u001b[0m: No module named 'get_betti_number'"
     ]
    }
   ],
   "source": [
    "from trainer.one_bof_tda import model_with_one_augmentation\n",
    "from nets.simple_net import MLP, LeNet\n",
    "\n",
    "MLP_no_aug = model_with_one_augmentation(model=MLP(), net_name=\"MLP\", transform=None, augmentation_name=\"NO\")"
   ]
  }
 ],
 "metadata": {
  "kernelspec": {
   "display_name": "PyTorchGpu",
   "language": "python",
   "name": "python3"
  },
  "language_info": {
   "codemirror_mode": {
    "name": "ipython",
    "version": 3
   },
   "file_extension": ".py",
   "mimetype": "text/x-python",
   "name": "python",
   "nbconvert_exporter": "python",
   "pygments_lexer": "ipython3",
   "version": "3.11.4"
  },
  "orig_nbformat": 4
 },
 "nbformat": 4,
 "nbformat_minor": 2
}
