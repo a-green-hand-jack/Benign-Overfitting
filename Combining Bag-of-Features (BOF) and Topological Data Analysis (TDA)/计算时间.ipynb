{
 "cells": [
  {
   "attachments": {},
   "cell_type": "markdown",
   "metadata": {},
   "source": [
    "# 计算BOF和TDA所需要的时间"
   ]
  },
  {
   "attachments": {},
   "cell_type": "markdown",
   "metadata": {},
   "source": [
    "## 一些准备工作"
   ]
  },
  {
   "attachments": {},
   "cell_type": "markdown",
   "metadata": {},
   "source": [
    "### 一个计算运行时间的函数"
   ]
  },
  {
   "cell_type": "code",
   "execution_count": 19,
   "metadata": {},
   "outputs": [],
   "source": [
    "import time\n",
    "\n",
    "def coumpte_time(func):\n",
    "    def wrapper(*args, **kwargs):\n",
    "        start_time = time.time()\n",
    "        result = func(*args, **kwargs)\n",
    "        end_time = time.time()\n",
    "        execution_time = end_time - start_time\n",
    "        print(f\"Function {func.__name__} took {execution_time} seconds to execute.\")\n",
    "        return result\n",
    "    return wrapper\n"
   ]
  },
  {
   "attachments": {},
   "cell_type": "markdown",
   "metadata": {},
   "source": [
    "### 一个张量列表"
   ]
  },
  {
   "cell_type": "code",
   "execution_count": 20,
   "metadata": {},
   "outputs": [],
   "source": [
    "import torch\n",
    "# 创建一个空列表用于存放张量\n",
    "tensor_list = []\n",
    "\n",
    "# 定义张量形状\n",
    "tensor_shape = (5000, 32*32*3)\n",
    "\n",
    "# 生成5000个符合高斯分布的张量并添加到列表中\n",
    "for _ in range(1):\n",
    "    # 使用torch.randn生成符合标准正态分布的张量\n",
    "    tensor = torch.randn(tensor_shape)\n",
    "    tensor_list.append(tensor)"
   ]
  },
  {
   "attachments": {},
   "cell_type": "markdown",
   "metadata": {},
   "source": [
    "## 计算BOF消耗的时间"
   ]
  },
  {
   "attachments": {},
   "cell_type": "markdown",
   "metadata": {},
   "source": [
    "### 定义一个计算BOF的实例函数"
   ]
  },
  {
   "cell_type": "code",
   "execution_count": 21,
   "metadata": {},
   "outputs": [],
   "source": [
    "from BOF.get_rank_from_matrix import Effective_Ranks\n",
    "import torch\n",
    "\n",
    "\n",
    "\n",
    "def get_BOF(tensor_list:list = []):\n",
    "    # 现在tensor_list里面有5000个符合高斯分布的张量，每个张量形状为(5000, 32*32*3)\n",
    "        \n",
    "\n",
    "    results = []\n",
    "    for image_matrix in tensor_list:\n",
    "        # 检查张量形状\n",
    "        if image_matrix.size(0) > image_matrix.size(1):\n",
    "            image_matrix = image_matrix.T  # 如果 m > n，执行转置操作\n",
    "        \n",
    "        get_rank = Effective_Ranks(image_matrix)\n",
    "        r0 = get_rank.r0\n",
    "        R0 = get_rank.R0\n",
    "        rk_max_index = get_rank.rk_max_index\n",
    "        rk_max = get_rank.rk_max_value\n",
    "        Rk_max = get_rank.Rk_value_max_rk_index\n",
    "\n",
    "        results.append({\"isic\": {\"r0\": r0, \"R0\": R0, \"rk_max_index\": rk_max_index, \"rk_max\": rk_max, \"Rk_max\": Rk_max}})\n",
    "    \n",
    "    return results\n"
   ]
  },
  {
   "cell_type": "code",
   "execution_count": 22,
   "metadata": {},
   "outputs": [
    {
     "name": "stdout",
     "output_type": "stream",
     "text": [
      "torch.Size([3072, 5000]) torch.float32\n",
      "(3072, 3072) float64\n",
      "Function get_BOF took 3.4863224029541016 seconds to execute.\n"
     ]
    },
    {
     "data": {
      "text/plain": [
       "[{'isic': {'r0': 971.2970274901704,\n",
       "   'R0': 1902.8135538809415,\n",
       "   'rk_max_index': 189,\n",
       "   'rk_max': 1033.3345264439295,\n",
       "   'Rk_max': 1849.0088594414212}}]"
      ]
     },
     "execution_count": 22,
     "metadata": {},
     "output_type": "execute_result"
    }
   ],
   "source": [
    "# get_BOF()\n",
    "# 使用function_A包装function_B\n",
    "timed_function_B = coumpte_time(get_BOF)\n",
    "\n",
    "# 调用timed_function_B，并传入参数\n",
    "timed_function_B(tensor_list)  # 传入函数B所需的参数\n"
   ]
  },
  {
   "attachments": {},
   "cell_type": "markdown",
   "metadata": {},
   "source": [
    "## 计算TDA需要的时间"
   ]
  },
  {
   "attachments": {},
   "cell_type": "markdown",
   "metadata": {},
   "source": [
    "### 定义一个计算TDA的实例函数"
   ]
  },
  {
   "cell_type": "code",
   "execution_count": 23,
   "metadata": {},
   "outputs": [],
   "source": [
    "from ripser import ripser\n",
    "\n",
    "def get_TDA(tensor_list:list = []):\n",
    "\n",
    "    # 现在tensor_list里面有5000个符合高斯分布的张量，每个张量形状为(5000, 32*32*3)\n",
    "    \n",
    "    results = []\n",
    "\n",
    "    for image_matrix in tensor_list:\n",
    "        TDA = ripser(X=image_matrix, maxdim=1)\n",
    "        results.append(TDA['dgms'])\n",
    "\n",
    "    return results\n",
    "        "
   ]
  },
  {
   "cell_type": "code",
   "execution_count": 24,
   "metadata": {},
   "outputs": [
    {
     "name": "stdout",
     "output_type": "stream",
     "text": [
      "Function get_TDA took 37.43271732330322 seconds to execute.\n"
     ]
    },
    {
     "data": {
      "text/plain": [
       "[[array([[2.86102295e-06, 7.32283859e+01],\n",
       "         [3.43852162e-06, 7.32453766e+01],\n",
       "         [3.56832265e-06, 7.33399277e+01],\n",
       "         ...,\n",
       "         [2.52318500e-06, 7.70209656e+01],\n",
       "         [4.26496126e-06, 7.70241852e+01],\n",
       "         [0.00000000e+00,            inf]]),\n",
       "  array([[77.14601898, 77.18371582],\n",
       "         [77.04654694, 77.14965057],\n",
       "         [77.04564667, 77.08319092],\n",
       "         ...,\n",
       "         [74.26155853, 75.28795624],\n",
       "         [74.24530029, 75.20455933],\n",
       "         [74.2314682 , 75.29425812]])]]"
      ]
     },
     "execution_count": 24,
     "metadata": {},
     "output_type": "execute_result"
    }
   ],
   "source": [
    "# get_BOF()\n",
    "# 使用function_A包装function_B\n",
    "timed_function_B = coumpte_time(get_TDA)\n",
    "\n",
    "# 调用timed_function_B，并传入参数\n",
    "timed_function_B(tensor_list)  # 传入函数B所需的参数\n"
   ]
  }
 ],
 "metadata": {
  "kernelspec": {
   "display_name": "PyTorchGpu",
   "language": "python",
   "name": "python3"
  },
  "language_info": {
   "codemirror_mode": {
    "name": "ipython",
    "version": 3
   },
   "file_extension": ".py",
   "mimetype": "text/x-python",
   "name": "python",
   "nbconvert_exporter": "python",
   "pygments_lexer": "ipython3",
   "version": "3.11.4"
  },
  "orig_nbformat": 4
 },
 "nbformat": 4,
 "nbformat_minor": 2
}
