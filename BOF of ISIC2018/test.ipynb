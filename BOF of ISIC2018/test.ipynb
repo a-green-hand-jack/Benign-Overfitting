{
 "cells": [
  {
   "cell_type": "code",
   "execution_count": 2,
   "metadata": {},
   "outputs": [],
   "source": [
    "%load_ext autoreload\n",
    "%autoreload 2"
   ]
  },
  {
   "cell_type": "code",
   "execution_count": 4,
   "metadata": {},
   "outputs": [
    {
     "name": "stdout",
     "output_type": "stream",
     "text": [
      "Vector shape: 786432\n"
     ]
    }
   ],
   "source": [
    "from BOF.get_rank_from_matrix import image2vector\n",
    "\n",
    "from PIL import Image\n",
    "import numpy as np\n",
    "\n",
    "# 读取图片\n",
    "image_path = r\"D:\\自学计算机\\MY_Project\\others_work\\UNeXt-pytorch\\inputs\\isic\\images\\0000000.png\"  # 修改为你的图片路径\n",
    "image = Image.open(image_path)\n",
    "\n",
    "# 将图像转换为NumPy数组\n",
    "image_array = np.array(image)\n",
    "\n",
    "# 使用函数将图像转换为向量\n",
    "vector = image2vector(image_array)\n",
    "\n",
    "# 输出向量的形状\n",
    "print(\"Vector shape:\", vector.shape[0])\n"
   ]
  },
  {
   "cell_type": "code",
   "execution_count": 5,
   "metadata": {},
   "outputs": [],
   "source": [
    "import os\n",
    "from PIL import Image\n",
    "import numpy as np\n",
    "\n",
    "def images_to_matrix(folder_path):\n",
    "    image_paths = []  # 存储图片路径\n",
    "    image_vectors = []  # 存储图片向量\n",
    "\n",
    "    # 遍历文件夹中的图片文件\n",
    "    for filename in os.listdir(folder_path):\n",
    "        if filename.endswith(\".jpg\") or filename.endswith(\".png\"):  # 只处理特定格式的图片文件\n",
    "            image_path = os.path.join(folder_path, filename)\n",
    "            image = Image.open(image_path)\n",
    "            image_array = np.array(image)\n",
    "            image_vector = image_array.flatten()  # 转换为向量\n",
    "            image_paths.append(image_path)\n",
    "            image_vectors.append(image_vector)\n",
    "\n",
    "    # 将图片向量堆叠成矩阵\n",
    "    image_matrix = np.vstack(image_vectors)\n",
    "    return image_matrix\n",
    "\n"
   ]
  },
  {
   "cell_type": "code",
   "execution_count": 7,
   "metadata": {},
   "outputs": [],
   "source": [
    "images_path = r\"D:\\自学计算机\\MY_Project\\others_work\\UNeXt-pytorch\\inputs\\isic\\images\"\n",
    "\n",
    "isic_tensor = images_to_matrix(images_path)"
   ]
  },
  {
   "cell_type": "code",
   "execution_count": 8,
   "metadata": {},
   "outputs": [
    {
     "name": "stdout",
     "output_type": "stream",
     "text": [
      "(2594, 786432)\n"
     ]
    }
   ],
   "source": [
    "print(isic_tensor.shape)"
   ]
  },
  {
   "cell_type": "code",
   "execution_count": 10,
   "metadata": {},
   "outputs": [],
   "source": [
    "from BOF.get_BOF import get_BOF\n",
    "\n",
    "images_path = r\"D:\\自学计算机\\MY_Project\\others_work\\UNeXt-pytorch\\inputs\\isic\\images\"\n",
    "\n",
    "isic_BOF = get_BOF(images_path=images_path)"
   ]
  },
  {
   "cell_type": "code",
   "execution_count": 11,
   "metadata": {},
   "outputs": [
    {
     "name": "stdout",
     "output_type": "stream",
     "text": [
      "{'isic': {'r0': 2.4239446948317513, 'R0': 4.795664100529304, 'rk_max_index': 944, 'rk_max': 299.5568362216132, 'Rk_max': 581.6181972885338}}\n"
     ]
    }
   ],
   "source": [
    "print(isic_BOF)"
   ]
  }
 ],
 "metadata": {
  "kernelspec": {
   "display_name": "PyTorchGpu",
   "language": "python",
   "name": "python3"
  },
  "language_info": {
   "codemirror_mode": {
    "name": "ipython",
    "version": 3
   },
   "file_extension": ".py",
   "mimetype": "text/x-python",
   "name": "python",
   "nbconvert_exporter": "python",
   "pygments_lexer": "ipython3",
   "version": "3.11.4"
  },
  "orig_nbformat": 4
 },
 "nbformat": 4,
 "nbformat_minor": 2
}
